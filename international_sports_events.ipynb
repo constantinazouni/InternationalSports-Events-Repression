{
 "cells": [
  {
   "cell_type": "markdown",
   "id": "c5b14343",
   "metadata": {},
   "source": [
    "# International Sports Events: Window Dressing and Repression"
   ]
  },
  {
   "cell_type": "markdown",
   "id": "12efe7a9",
   "metadata": {},
   "source": [
    "In this assignment I will partly replicate a study on the relationship between repression in autocratic regimes and international sports events:\n",
    "\n",
    "* [Scharpf, A., Gläßel, C., Pearce, E. (2022) International Sports Events and Repression in Autocracies: Evidence from the 1978 FIFA World Cup, American Political Science Review, 1-18](https://doi:10.1017/S0003055422000958)"
   ]
  },
  {
   "cell_type": "markdown",
   "id": "f9666251",
   "metadata": {},
   "source": [
    "> Konstantina Zouni, Undergraduate <br />\n",
    "> Department of Management Science and Technology <br />\n",
    "> Athens University of Economics and Business <br />\n",
    "> t8190046@aueb.gr"
   ]
  },
  {
   "cell_type": "markdown",
   "id": "b04e43c0",
   "metadata": {},
   "source": [
    "## Import Libraries"
   ]
  },
  {
   "cell_type": "markdown",
   "id": "e3b8aaaf",
   "metadata": {},
   "source": [
    "I will use several libraries in my analysis\n",
    "* [statsmodels](https://www.statsmodels.org/stable/index.html) implements models for statistical estimation\n",
    "* [plotly](https://plotly.com/python/) is used for the visualizations\n",
    "* [stargazer](https://pypi.org/project/stargazer/) implements the summaries formatting "
   ]
  },
  {
   "cell_type": "code",
   "execution_count": 1,
   "id": "6fdd74c4",
   "metadata": {},
   "outputs": [],
   "source": [
    "import pandas as pd\n",
    "import numpy as np\n",
    "import matplotlib.pyplot as plt\n",
    "import statsmodels.api as sm\n",
    "from stargazer.stargazer import Stargazer\n",
    "from IPython.core.display import HTML\n",
    "from matplotlib.lines import Line2D"
   ]
  },
  {
   "cell_type": "markdown",
   "id": "0e577ffa",
   "metadata": {},
   "source": [
    "## Q1: Overview"
   ]
  },
  {
   "cell_type": "markdown",
   "id": "db334de6",
   "metadata": {},
   "source": [
    "* Replicating **Tables SI.3.1** and **SI.3.2** of the Supporting Information to ensure that I have the correct data\n",
    "\n",
    "* Replicating **Figure SI.1.1** from the supporting information and **Figure 1** from the main publication"
   ]
  },
  {
   "cell_type": "markdown",
   "id": "4e67bbb1",
   "metadata": {},
   "source": [
    "Read the [main data file](https://dataverse.harvard.edu/file.xhtml?fileId=6358368&version=1.0) from the [replication package](https://dataverse.harvard.edu/dataset.xhtml?persistentId=doi:10.7910/DVN/RJY34I)"
   ]
  },
  {
   "cell_type": "code",
   "execution_count": 2,
   "id": "a9b748f4",
   "metadata": {},
   "outputs": [],
   "source": [
    "main_data = pd.read_csv('data/main_data.tab', sep='\\t')"
   ]
  },
  {
   "cell_type": "markdown",
   "id": "8087c4b5",
   "metadata": {},
   "source": [
    "### Table SI.3.1.: Summary statistics (Main analyses)"
   ]
  },
  {
   "cell_type": "markdown",
   "id": "29919545",
   "metadata": {},
   "source": [
    "That table shows **summary statistics** for all variables used in the main analyses"
   ]
  },
  {
   "cell_type": "markdown",
   "id": "0893d6d0",
   "metadata": {},
   "source": [
    "Keep the columns that appear at the Table SI.3.1. "
   ]
  },
  {
   "cell_type": "code",
   "execution_count": 3,
   "id": "d454fcd5",
   "metadata": {},
   "outputs": [],
   "source": [
    "table_1=main_data[['repression',\n",
    "                     'lnrepression',\n",
    "                     'dumrepression',\n",
    "                     'hostcity',\n",
    "                     'prox_hotelonly',\n",
    "                     'prox_hotelpress',\n",
    "                     'time',\n",
    "                     'time2',\n",
    "                     'time3',\n",
    "                     'lnpop_1970',\n",
    "                     'literacy_avg',\n",
    "                     'vote_frejuli',\n",
    "                     'lnrebact1974',\n",
    "                     'lnrepression70_77',\n",
    "                     'latitude',\n",
    "                     'lnstrikes',\n",
    "                     'lnlag_strikes',\n",
    "                     'lnlag2_strikes',\n",
    "                     'zone1',\n",
    "                     'zone2',\n",
    "                     'zone3',\n",
    "                     'zone4',\n",
    "                     'zone5']]"
   ]
  },
  {
   "cell_type": "markdown",
   "id": "56a5a676",
   "metadata": {},
   "source": [
    "Remove rows where **time is null**\n",
    "* We need to remove those rows because null time means that we don't have available repression data for that period"
   ]
  },
  {
   "cell_type": "code",
   "execution_count": 4,
   "id": "6df09a74",
   "metadata": {},
   "outputs": [],
   "source": [
    "table_1=table_1[table_1['time'].notnull()]"
   ]
  },
  {
   "cell_type": "markdown",
   "id": "74888bf5",
   "metadata": {},
   "source": [
    "Calculate variable descriptives"
   ]
  },
  {
   "cell_type": "code",
   "execution_count": 5,
   "id": "6f9dc319",
   "metadata": {},
   "outputs": [],
   "source": [
    "table_1=table_1.describe()"
   ]
  },
  {
   "cell_type": "markdown",
   "id": "d050e240",
   "metadata": {},
   "source": [
    "Keep certain descriptives that appear at the table"
   ]
  },
  {
   "cell_type": "code",
   "execution_count": 6,
   "id": "d0017fb1",
   "metadata": {},
   "outputs": [],
   "source": [
    "table_1=table_1.T\n",
    "table_1=table_1[['count', 'mean', 'std', 'min', 'max']]"
   ]
  },
  {
   "cell_type": "markdown",
   "id": "6518dedf",
   "metadata": {},
   "source": [
    "Keep only 3 decimals in the metrics and make count metric an integer"
   ]
  },
  {
   "cell_type": "code",
   "execution_count": 7,
   "id": "c5e43250",
   "metadata": {},
   "outputs": [],
   "source": [
    "table_1=table_1.round(3)\n",
    "table_1['count']=table_1['count'].astype(int)"
   ]
  },
  {
   "cell_type": "markdown",
   "id": "bc4db6ad",
   "metadata": {},
   "source": [
    "Show result"
   ]
  },
  {
   "cell_type": "code",
   "execution_count": 8,
   "id": "4f2470be",
   "metadata": {},
   "outputs": [
    {
     "data": {
      "text/html": [
       "<div>\n",
       "<style scoped>\n",
       "    .dataframe tbody tr th:only-of-type {\n",
       "        vertical-align: middle;\n",
       "    }\n",
       "\n",
       "    .dataframe tbody tr th {\n",
       "        vertical-align: top;\n",
       "    }\n",
       "\n",
       "    .dataframe thead th {\n",
       "        text-align: right;\n",
       "    }\n",
       "</style>\n",
       "<table border=\"1\" class=\"dataframe\">\n",
       "  <thead>\n",
       "    <tr style=\"text-align: right;\">\n",
       "      <th></th>\n",
       "      <th>count</th>\n",
       "      <th>mean</th>\n",
       "      <th>std</th>\n",
       "      <th>min</th>\n",
       "      <th>max</th>\n",
       "    </tr>\n",
       "  </thead>\n",
       "  <tbody>\n",
       "    <tr>\n",
       "      <th>repression</th>\n",
       "      <td>58107</td>\n",
       "      <td>0.005</td>\n",
       "      <td>0.104</td>\n",
       "      <td>0.000</td>\n",
       "      <td>7.000</td>\n",
       "    </tr>\n",
       "    <tr>\n",
       "      <th>lnrepression</th>\n",
       "      <td>58107</td>\n",
       "      <td>0.003</td>\n",
       "      <td>0.053</td>\n",
       "      <td>0.000</td>\n",
       "      <td>2.079</td>\n",
       "    </tr>\n",
       "    <tr>\n",
       "      <th>dumrepression</th>\n",
       "      <td>58107</td>\n",
       "      <td>0.003</td>\n",
       "      <td>0.058</td>\n",
       "      <td>0.000</td>\n",
       "      <td>1.000</td>\n",
       "    </tr>\n",
       "    <tr>\n",
       "      <th>hostcity</th>\n",
       "      <td>58383</td>\n",
       "      <td>0.010</td>\n",
       "      <td>0.100</td>\n",
       "      <td>0.000</td>\n",
       "      <td>1.000</td>\n",
       "    </tr>\n",
       "    <tr>\n",
       "      <th>prox_hotelonly</th>\n",
       "      <td>58107</td>\n",
       "      <td>7.000</td>\n",
       "      <td>1.613</td>\n",
       "      <td>0.000</td>\n",
       "      <td>9.398</td>\n",
       "    </tr>\n",
       "    <tr>\n",
       "      <th>prox_hotelpress</th>\n",
       "      <td>58107</td>\n",
       "      <td>7.079</td>\n",
       "      <td>1.629</td>\n",
       "      <td>0.000</td>\n",
       "      <td>9.398</td>\n",
       "    </tr>\n",
       "    <tr>\n",
       "      <th>time</th>\n",
       "      <td>58383</td>\n",
       "      <td>0.590</td>\n",
       "      <td>0.338</td>\n",
       "      <td>0.010</td>\n",
       "      <td>1.170</td>\n",
       "    </tr>\n",
       "    <tr>\n",
       "      <th>time2</th>\n",
       "      <td>58383</td>\n",
       "      <td>0.462</td>\n",
       "      <td>0.411</td>\n",
       "      <td>0.000</td>\n",
       "      <td>1.369</td>\n",
       "    </tr>\n",
       "    <tr>\n",
       "      <th>time3</th>\n",
       "      <td>58383</td>\n",
       "      <td>0.407</td>\n",
       "      <td>0.460</td>\n",
       "      <td>0.000</td>\n",
       "      <td>1.602</td>\n",
       "    </tr>\n",
       "    <tr>\n",
       "      <th>lnpop_1970</th>\n",
       "      <td>56628</td>\n",
       "      <td>9.701</td>\n",
       "      <td>1.336</td>\n",
       "      <td>6.057</td>\n",
       "      <td>14.905</td>\n",
       "    </tr>\n",
       "    <tr>\n",
       "      <th>literacy_avg</th>\n",
       "      <td>56628</td>\n",
       "      <td>0.717</td>\n",
       "      <td>0.110</td>\n",
       "      <td>0.316</td>\n",
       "      <td>0.901</td>\n",
       "    </tr>\n",
       "    <tr>\n",
       "      <th>vote_frejuli</th>\n",
       "      <td>57447</td>\n",
       "      <td>58.752</td>\n",
       "      <td>11.539</td>\n",
       "      <td>28.500</td>\n",
       "      <td>94.300</td>\n",
       "    </tr>\n",
       "    <tr>\n",
       "      <th>lnrebact1974</th>\n",
       "      <td>58383</td>\n",
       "      <td>1.937</td>\n",
       "      <td>2.069</td>\n",
       "      <td>0.000</td>\n",
       "      <td>5.037</td>\n",
       "    </tr>\n",
       "    <tr>\n",
       "      <th>lnrepression70_77</th>\n",
       "      <td>58383</td>\n",
       "      <td>0.908</td>\n",
       "      <td>1.434</td>\n",
       "      <td>0.000</td>\n",
       "      <td>7.557</td>\n",
       "    </tr>\n",
       "    <tr>\n",
       "      <th>latitude</th>\n",
       "      <td>58383</td>\n",
       "      <td>-32.378</td>\n",
       "      <td>5.460</td>\n",
       "      <td>-54.749</td>\n",
       "      <td>-22.129</td>\n",
       "    </tr>\n",
       "    <tr>\n",
       "      <th>lnstrikes</th>\n",
       "      <td>58383</td>\n",
       "      <td>0.010</td>\n",
       "      <td>0.102</td>\n",
       "      <td>0.000</td>\n",
       "      <td>2.079</td>\n",
       "    </tr>\n",
       "    <tr>\n",
       "      <th>lnlag_strikes</th>\n",
       "      <td>58383</td>\n",
       "      <td>0.009</td>\n",
       "      <td>0.100</td>\n",
       "      <td>0.000</td>\n",
       "      <td>2.079</td>\n",
       "    </tr>\n",
       "    <tr>\n",
       "      <th>lnlag2_strikes</th>\n",
       "      <td>58383</td>\n",
       "      <td>0.009</td>\n",
       "      <td>0.098</td>\n",
       "      <td>0.000</td>\n",
       "      <td>2.079</td>\n",
       "    </tr>\n",
       "    <tr>\n",
       "      <th>zone1</th>\n",
       "      <td>58383</td>\n",
       "      <td>0.246</td>\n",
       "      <td>0.431</td>\n",
       "      <td>0.000</td>\n",
       "      <td>1.000</td>\n",
       "    </tr>\n",
       "    <tr>\n",
       "      <th>zone2</th>\n",
       "      <td>58383</td>\n",
       "      <td>0.220</td>\n",
       "      <td>0.415</td>\n",
       "      <td>0.000</td>\n",
       "      <td>1.000</td>\n",
       "    </tr>\n",
       "    <tr>\n",
       "      <th>zone3</th>\n",
       "      <td>58383</td>\n",
       "      <td>0.379</td>\n",
       "      <td>0.485</td>\n",
       "      <td>0.000</td>\n",
       "      <td>1.000</td>\n",
       "    </tr>\n",
       "    <tr>\n",
       "      <th>zone4</th>\n",
       "      <td>58383</td>\n",
       "      <td>0.020</td>\n",
       "      <td>0.140</td>\n",
       "      <td>0.000</td>\n",
       "      <td>1.000</td>\n",
       "    </tr>\n",
       "    <tr>\n",
       "      <th>zone5</th>\n",
       "      <td>58383</td>\n",
       "      <td>0.134</td>\n",
       "      <td>0.341</td>\n",
       "      <td>0.000</td>\n",
       "      <td>1.000</td>\n",
       "    </tr>\n",
       "  </tbody>\n",
       "</table>\n",
       "</div>"
      ],
      "text/plain": [
       "                   count    mean     std     min     max\n",
       "repression         58107   0.005   0.104   0.000   7.000\n",
       "lnrepression       58107   0.003   0.053   0.000   2.079\n",
       "dumrepression      58107   0.003   0.058   0.000   1.000\n",
       "hostcity           58383   0.010   0.100   0.000   1.000\n",
       "prox_hotelonly     58107   7.000   1.613   0.000   9.398\n",
       "prox_hotelpress    58107   7.079   1.629   0.000   9.398\n",
       "time               58383   0.590   0.338   0.010   1.170\n",
       "time2              58383   0.462   0.411   0.000   1.369\n",
       "time3              58383   0.407   0.460   0.000   1.602\n",
       "lnpop_1970         56628   9.701   1.336   6.057  14.905\n",
       "literacy_avg       56628   0.717   0.110   0.316   0.901\n",
       "vote_frejuli       57447  58.752  11.539  28.500  94.300\n",
       "lnrebact1974       58383   1.937   2.069   0.000   5.037\n",
       "lnrepression70_77  58383   0.908   1.434   0.000   7.557\n",
       "latitude           58383 -32.378   5.460 -54.749 -22.129\n",
       "lnstrikes          58383   0.010   0.102   0.000   2.079\n",
       "lnlag_strikes      58383   0.009   0.100   0.000   2.079\n",
       "lnlag2_strikes     58383   0.009   0.098   0.000   2.079\n",
       "zone1              58383   0.246   0.431   0.000   1.000\n",
       "zone2              58383   0.220   0.415   0.000   1.000\n",
       "zone3              58383   0.379   0.485   0.000   1.000\n",
       "zone4              58383   0.020   0.140   0.000   1.000\n",
       "zone5              58383   0.134   0.341   0.000   1.000"
      ]
     },
     "execution_count": 8,
     "metadata": {},
     "output_type": "execute_result"
    }
   ],
   "source": [
    "table_1"
   ]
  },
  {
   "cell_type": "markdown",
   "id": "e8693f16",
   "metadata": {},
   "source": [
    "### Table SI.3.2. Summary statistics (Post-World Cup period)"
   ]
  },
  {
   "cell_type": "markdown",
   "id": "411aa000",
   "metadata": {},
   "source": [
    "That table summarizes the variables used to analyze repression **during** and **after** the **1978 FIFA World Cup**"
   ]
  },
  {
   "cell_type": "markdown",
   "id": "1d251b94",
   "metadata": {},
   "source": [
    "Keep the columns that appear at the Table SI.3.2. "
   ]
  },
  {
   "cell_type": "code",
   "execution_count": 9,
   "id": "425ff1d9",
   "metadata": {},
   "outputs": [],
   "source": [
    "table_2=main_data[['repression',\n",
    "                     'lnrepression',\n",
    "                     'hostcity',\n",
    "                     'postwc_time3mdum',\n",
    "                     'time_postwc',\n",
    "                     'time2_postwc',\n",
    "                     'time3_postwc',\n",
    "                     'lnpop_1970',\n",
    "                     'vote_frejuli',\n",
    "                     'literacy_avg',\n",
    "                     'lnrebact1974',\n",
    "                     'lnrepression70_77',\n",
    "                     'zone1',\n",
    "                     'zone2',\n",
    "                     'zone3',\n",
    "                     'zone4',\n",
    "                     'zone5']]"
   ]
  },
  {
   "cell_type": "markdown",
   "id": "20da0c03",
   "metadata": {},
   "source": [
    "Remove rows where the 3 months post world cup time dummy is not null\n",
    "* We need to remove those rows because when that variable is null it means that we don't have repression data for that period after the world cup"
   ]
  },
  {
   "cell_type": "code",
   "execution_count": 10,
   "id": "ae2e7b65",
   "metadata": {},
   "outputs": [],
   "source": [
    "table_2=table_2[table_2['postwc_time3mdum'].notnull()]"
   ]
  },
  {
   "cell_type": "markdown",
   "id": "d1d50a92",
   "metadata": {},
   "source": [
    "Calculate variable descriptives"
   ]
  },
  {
   "cell_type": "code",
   "execution_count": 11,
   "id": "3e5b04de",
   "metadata": {},
   "outputs": [],
   "source": [
    "table_2=table_2.describe()"
   ]
  },
  {
   "cell_type": "markdown",
   "id": "9c9af60c",
   "metadata": {},
   "source": [
    "Keep certain descriptives that appear at the table"
   ]
  },
  {
   "cell_type": "code",
   "execution_count": 12,
   "id": "745ad1bf",
   "metadata": {},
   "outputs": [],
   "source": [
    "table_2=table_2.T\n",
    "table_2=table_2[['count', 'mean', 'std', 'min', 'max']]"
   ]
  },
  {
   "cell_type": "markdown",
   "id": "d18c36ea",
   "metadata": {},
   "source": [
    "Keep only 3 decimals in the metrics and make count metric an integer"
   ]
  },
  {
   "cell_type": "code",
   "execution_count": 13,
   "id": "fe2db5b1",
   "metadata": {},
   "outputs": [],
   "source": [
    "table_2=table_2.round(3)\n",
    "table_2['count']=table_2['count'].astype(int)"
   ]
  },
  {
   "cell_type": "markdown",
   "id": "a14f438a",
   "metadata": {},
   "source": [
    "Show result"
   ]
  },
  {
   "cell_type": "code",
   "execution_count": 14,
   "id": "00107240",
   "metadata": {},
   "outputs": [
    {
     "data": {
      "text/html": [
       "<div>\n",
       "<style scoped>\n",
       "    .dataframe tbody tr th:only-of-type {\n",
       "        vertical-align: middle;\n",
       "    }\n",
       "\n",
       "    .dataframe tbody tr th {\n",
       "        vertical-align: top;\n",
       "    }\n",
       "\n",
       "    .dataframe thead th {\n",
       "        text-align: right;\n",
       "    }\n",
       "</style>\n",
       "<table border=\"1\" class=\"dataframe\">\n",
       "  <thead>\n",
       "    <tr style=\"text-align: right;\">\n",
       "      <th></th>\n",
       "      <th>count</th>\n",
       "      <th>mean</th>\n",
       "      <th>std</th>\n",
       "      <th>min</th>\n",
       "      <th>max</th>\n",
       "    </tr>\n",
       "  </thead>\n",
       "  <tbody>\n",
       "    <tr>\n",
       "      <th>repression</th>\n",
       "      <td>58321</td>\n",
       "      <td>0.004</td>\n",
       "      <td>0.096</td>\n",
       "      <td>0.000</td>\n",
       "      <td>9.000</td>\n",
       "    </tr>\n",
       "    <tr>\n",
       "      <th>lnrepression</th>\n",
       "      <td>58321</td>\n",
       "      <td>0.002</td>\n",
       "      <td>0.047</td>\n",
       "      <td>0.000</td>\n",
       "      <td>2.303</td>\n",
       "    </tr>\n",
       "    <tr>\n",
       "      <th>hostcity</th>\n",
       "      <td>58383</td>\n",
       "      <td>0.010</td>\n",
       "      <td>0.100</td>\n",
       "      <td>0.000</td>\n",
       "      <td>1.000</td>\n",
       "    </tr>\n",
       "    <tr>\n",
       "      <th>postwc_time3mdum</th>\n",
       "      <td>58383</td>\n",
       "      <td>0.786</td>\n",
       "      <td>0.410</td>\n",
       "      <td>0.000</td>\n",
       "      <td>1.000</td>\n",
       "    </tr>\n",
       "    <tr>\n",
       "      <th>time_postwc</th>\n",
       "      <td>58383</td>\n",
       "      <td>0.590</td>\n",
       "      <td>0.338</td>\n",
       "      <td>0.010</td>\n",
       "      <td>1.170</td>\n",
       "    </tr>\n",
       "    <tr>\n",
       "      <th>time2_postwc</th>\n",
       "      <td>58383</td>\n",
       "      <td>0.462</td>\n",
       "      <td>0.411</td>\n",
       "      <td>0.000</td>\n",
       "      <td>1.369</td>\n",
       "    </tr>\n",
       "    <tr>\n",
       "      <th>time3_postwc</th>\n",
       "      <td>58383</td>\n",
       "      <td>0.407</td>\n",
       "      <td>0.460</td>\n",
       "      <td>0.000</td>\n",
       "      <td>1.602</td>\n",
       "    </tr>\n",
       "    <tr>\n",
       "      <th>lnpop_1970</th>\n",
       "      <td>56628</td>\n",
       "      <td>9.701</td>\n",
       "      <td>1.336</td>\n",
       "      <td>6.057</td>\n",
       "      <td>14.905</td>\n",
       "    </tr>\n",
       "    <tr>\n",
       "      <th>vote_frejuli</th>\n",
       "      <td>57447</td>\n",
       "      <td>58.752</td>\n",
       "      <td>11.539</td>\n",
       "      <td>28.500</td>\n",
       "      <td>94.300</td>\n",
       "    </tr>\n",
       "    <tr>\n",
       "      <th>literacy_avg</th>\n",
       "      <td>56628</td>\n",
       "      <td>0.717</td>\n",
       "      <td>0.110</td>\n",
       "      <td>0.316</td>\n",
       "      <td>0.901</td>\n",
       "    </tr>\n",
       "    <tr>\n",
       "      <th>lnrebact1974</th>\n",
       "      <td>58383</td>\n",
       "      <td>1.937</td>\n",
       "      <td>2.069</td>\n",
       "      <td>0.000</td>\n",
       "      <td>5.037</td>\n",
       "    </tr>\n",
       "    <tr>\n",
       "      <th>lnrepression70_77</th>\n",
       "      <td>58383</td>\n",
       "      <td>0.908</td>\n",
       "      <td>1.434</td>\n",
       "      <td>0.000</td>\n",
       "      <td>7.557</td>\n",
       "    </tr>\n",
       "    <tr>\n",
       "      <th>zone1</th>\n",
       "      <td>58383</td>\n",
       "      <td>0.246</td>\n",
       "      <td>0.431</td>\n",
       "      <td>0.000</td>\n",
       "      <td>1.000</td>\n",
       "    </tr>\n",
       "    <tr>\n",
       "      <th>zone2</th>\n",
       "      <td>58383</td>\n",
       "      <td>0.220</td>\n",
       "      <td>0.415</td>\n",
       "      <td>0.000</td>\n",
       "      <td>1.000</td>\n",
       "    </tr>\n",
       "    <tr>\n",
       "      <th>zone3</th>\n",
       "      <td>58383</td>\n",
       "      <td>0.379</td>\n",
       "      <td>0.485</td>\n",
       "      <td>0.000</td>\n",
       "      <td>1.000</td>\n",
       "    </tr>\n",
       "    <tr>\n",
       "      <th>zone4</th>\n",
       "      <td>58383</td>\n",
       "      <td>0.020</td>\n",
       "      <td>0.140</td>\n",
       "      <td>0.000</td>\n",
       "      <td>1.000</td>\n",
       "    </tr>\n",
       "    <tr>\n",
       "      <th>zone5</th>\n",
       "      <td>58383</td>\n",
       "      <td>0.134</td>\n",
       "      <td>0.341</td>\n",
       "      <td>0.000</td>\n",
       "      <td>1.000</td>\n",
       "    </tr>\n",
       "  </tbody>\n",
       "</table>\n",
       "</div>"
      ],
      "text/plain": [
       "                   count    mean     std     min     max\n",
       "repression         58321   0.004   0.096   0.000   9.000\n",
       "lnrepression       58321   0.002   0.047   0.000   2.303\n",
       "hostcity           58383   0.010   0.100   0.000   1.000\n",
       "postwc_time3mdum   58383   0.786   0.410   0.000   1.000\n",
       "time_postwc        58383   0.590   0.338   0.010   1.170\n",
       "time2_postwc       58383   0.462   0.411   0.000   1.369\n",
       "time3_postwc       58383   0.407   0.460   0.000   1.602\n",
       "lnpop_1970         56628   9.701   1.336   6.057  14.905\n",
       "vote_frejuli       57447  58.752  11.539  28.500  94.300\n",
       "literacy_avg       56628   0.717   0.110   0.316   0.901\n",
       "lnrebact1974       58383   1.937   2.069   0.000   5.037\n",
       "lnrepression70_77  58383   0.908   1.434   0.000   7.557\n",
       "zone1              58383   0.246   0.431   0.000   1.000\n",
       "zone2              58383   0.220   0.415   0.000   1.000\n",
       "zone3              58383   0.379   0.485   0.000   1.000\n",
       "zone4              58383   0.020   0.140   0.000   1.000\n",
       "zone5              58383   0.134   0.341   0.000   1.000"
      ]
     },
     "execution_count": 14,
     "metadata": {},
     "output_type": "execute_result"
    }
   ],
   "source": [
    "table_2"
   ]
  },
  {
   "cell_type": "markdown",
   "id": "d9fd91f5",
   "metadata": {},
   "source": [
    "### Figure 1. Autocratic Hosts of International Sports Events"
   ]
  },
  {
   "cell_type": "markdown",
   "id": "63b4cb39",
   "metadata": {},
   "source": [
    "The figure shows the five-year (1990–2024) shares of authoritarian states among all countries that have hosted the Summer and Winter Olympics, as well as the world championships in athletics, basketball, cricket, football, handball, ice hockey, rugby, table tennis, and volleyball"
   ]
  },
  {
   "cell_type": "markdown",
   "id": "3f0dc721",
   "metadata": {},
   "source": [
    "Read the [figure 1 data](https://dataverse.harvard.edu/file.xhtml?fileId=6358362&version=1.0) from the [replication package](https://dataverse.harvard.edu/dataset.xhtml?persistentId=doi:10.7910/DVN/RJY34I)\n",
    "* **autochostperc** variable shows the percentage of autocrtic hosts through the years\n",
    "* **postcwy** variable represents the year periods"
   ]
  },
  {
   "cell_type": "code",
   "execution_count": 15,
   "id": "62fdeb0d",
   "metadata": {},
   "outputs": [
    {
     "data": {
      "text/html": [
       "<div>\n",
       "<style scoped>\n",
       "    .dataframe tbody tr th:only-of-type {\n",
       "        vertical-align: middle;\n",
       "    }\n",
       "\n",
       "    .dataframe tbody tr th {\n",
       "        vertical-align: top;\n",
       "    }\n",
       "\n",
       "    .dataframe thead th {\n",
       "        text-align: right;\n",
       "    }\n",
       "</style>\n",
       "<table border=\"1\" class=\"dataframe\">\n",
       "  <thead>\n",
       "    <tr style=\"text-align: right;\">\n",
       "      <th></th>\n",
       "      <th>postcwy</th>\n",
       "      <th>event_selec</th>\n",
       "      <th>autochost</th>\n",
       "      <th>autochostperc</th>\n",
       "    </tr>\n",
       "  </thead>\n",
       "  <tbody>\n",
       "    <tr>\n",
       "      <th>0</th>\n",
       "      <td>1.0</td>\n",
       "      <td>25.0</td>\n",
       "      <td>2.0</td>\n",
       "      <td>8.000000</td>\n",
       "    </tr>\n",
       "    <tr>\n",
       "      <th>1</th>\n",
       "      <td>2.0</td>\n",
       "      <td>31.0</td>\n",
       "      <td>4.0</td>\n",
       "      <td>12.903226</td>\n",
       "    </tr>\n",
       "    <tr>\n",
       "      <th>2</th>\n",
       "      <td>3.0</td>\n",
       "      <td>25.0</td>\n",
       "      <td>5.0</td>\n",
       "      <td>20.000000</td>\n",
       "    </tr>\n",
       "    <tr>\n",
       "      <th>3</th>\n",
       "      <td>4.0</td>\n",
       "      <td>24.0</td>\n",
       "      <td>6.0</td>\n",
       "      <td>25.000000</td>\n",
       "    </tr>\n",
       "    <tr>\n",
       "      <th>4</th>\n",
       "      <td>5.0</td>\n",
       "      <td>30.0</td>\n",
       "      <td>6.0</td>\n",
       "      <td>20.000000</td>\n",
       "    </tr>\n",
       "    <tr>\n",
       "      <th>5</th>\n",
       "      <td>6.0</td>\n",
       "      <td>32.0</td>\n",
       "      <td>9.0</td>\n",
       "      <td>28.125000</td>\n",
       "    </tr>\n",
       "    <tr>\n",
       "      <th>6</th>\n",
       "      <td>7.0</td>\n",
       "      <td>27.0</td>\n",
       "      <td>10.0</td>\n",
       "      <td>37.037037</td>\n",
       "    </tr>\n",
       "  </tbody>\n",
       "</table>\n",
       "</div>"
      ],
      "text/plain": [
       "   postcwy  event_selec  autochost  autochostperc\n",
       "0      1.0         25.0        2.0       8.000000\n",
       "1      2.0         31.0        4.0      12.903226\n",
       "2      3.0         25.0        5.0      20.000000\n",
       "3      4.0         24.0        6.0      25.000000\n",
       "4      5.0         30.0        6.0      20.000000\n",
       "5      6.0         32.0        9.0      28.125000\n",
       "6      7.0         27.0       10.0      37.037037"
      ]
     },
     "execution_count": 15,
     "metadata": {},
     "output_type": "execute_result"
    }
   ],
   "source": [
    "figure1_data = pd.read_csv('data/figure_1_data.tab', sep='\\t')\n",
    "figure1_data"
   ]
  },
  {
   "cell_type": "markdown",
   "id": "b4b339e5",
   "metadata": {},
   "source": [
    "Create dictionary with the new labels for the year periods"
   ]
  },
  {
   "cell_type": "code",
   "execution_count": 16,
   "id": "d8a9b896",
   "metadata": {},
   "outputs": [],
   "source": [
    "years_dict={ '1': '1990–1994',\n",
    "            '2': '1995–1999',\n",
    "            '3': '2000–2004',\n",
    "            '4': '2005–2009',\n",
    "            '5': '2010–2014',\n",
    "            '6': '2015–2019',\n",
    "            '7': '2020–2024'\n",
    "         }"
   ]
  },
  {
   "cell_type": "markdown",
   "id": "c0650875",
   "metadata": {},
   "source": [
    "Replace count postcwy values with years range labels"
   ]
  },
  {
   "cell_type": "code",
   "execution_count": 17,
   "id": "67e50fcb",
   "metadata": {},
   "outputs": [
    {
     "data": {
      "text/html": [
       "<div>\n",
       "<style scoped>\n",
       "    .dataframe tbody tr th:only-of-type {\n",
       "        vertical-align: middle;\n",
       "    }\n",
       "\n",
       "    .dataframe tbody tr th {\n",
       "        vertical-align: top;\n",
       "    }\n",
       "\n",
       "    .dataframe thead th {\n",
       "        text-align: right;\n",
       "    }\n",
       "</style>\n",
       "<table border=\"1\" class=\"dataframe\">\n",
       "  <thead>\n",
       "    <tr style=\"text-align: right;\">\n",
       "      <th></th>\n",
       "      <th>postcwy</th>\n",
       "      <th>event_selec</th>\n",
       "      <th>autochost</th>\n",
       "      <th>autochostperc</th>\n",
       "    </tr>\n",
       "  </thead>\n",
       "  <tbody>\n",
       "    <tr>\n",
       "      <th>0</th>\n",
       "      <td>1990–1994</td>\n",
       "      <td>25.0</td>\n",
       "      <td>2.0</td>\n",
       "      <td>8.000000</td>\n",
       "    </tr>\n",
       "    <tr>\n",
       "      <th>1</th>\n",
       "      <td>1995–1999</td>\n",
       "      <td>31.0</td>\n",
       "      <td>4.0</td>\n",
       "      <td>12.903226</td>\n",
       "    </tr>\n",
       "    <tr>\n",
       "      <th>2</th>\n",
       "      <td>2000–2004</td>\n",
       "      <td>25.0</td>\n",
       "      <td>5.0</td>\n",
       "      <td>20.000000</td>\n",
       "    </tr>\n",
       "    <tr>\n",
       "      <th>3</th>\n",
       "      <td>2005–2009</td>\n",
       "      <td>24.0</td>\n",
       "      <td>6.0</td>\n",
       "      <td>25.000000</td>\n",
       "    </tr>\n",
       "    <tr>\n",
       "      <th>4</th>\n",
       "      <td>2010–2014</td>\n",
       "      <td>30.0</td>\n",
       "      <td>6.0</td>\n",
       "      <td>20.000000</td>\n",
       "    </tr>\n",
       "    <tr>\n",
       "      <th>5</th>\n",
       "      <td>2015–2019</td>\n",
       "      <td>32.0</td>\n",
       "      <td>9.0</td>\n",
       "      <td>28.125000</td>\n",
       "    </tr>\n",
       "    <tr>\n",
       "      <th>6</th>\n",
       "      <td>2020–2024</td>\n",
       "      <td>27.0</td>\n",
       "      <td>10.0</td>\n",
       "      <td>37.037037</td>\n",
       "    </tr>\n",
       "  </tbody>\n",
       "</table>\n",
       "</div>"
      ],
      "text/plain": [
       "     postcwy  event_selec  autochost  autochostperc\n",
       "0  1990–1994         25.0        2.0       8.000000\n",
       "1  1995–1999         31.0        4.0      12.903226\n",
       "2  2000–2004         25.0        5.0      20.000000\n",
       "3  2005–2009         24.0        6.0      25.000000\n",
       "4  2010–2014         30.0        6.0      20.000000\n",
       "5  2015–2019         32.0        9.0      28.125000\n",
       "6  2020–2024         27.0       10.0      37.037037"
      ]
     },
     "execution_count": 17,
     "metadata": {},
     "output_type": "execute_result"
    }
   ],
   "source": [
    "figure1_data['postcwy']=figure1_data['postcwy'].astype(int).astype(str).replace(years_dict)\n",
    "figure1_data"
   ]
  },
  {
   "cell_type": "markdown",
   "id": "117e5e87",
   "metadata": {},
   "source": [
    "Use matplot library to plot the figure\n",
    "* **autochostperc** variable is used in the y axis\n",
    "* **postcwy** variable is used in the x axis\n",
    "* point markers where used to show the x axis timestamps in the line"
   ]
  },
  {
   "cell_type": "code",
   "execution_count": 18,
   "id": "441020e0",
   "metadata": {},
   "outputs": [
    {
     "data": {
      "image/png": "[encoded data removed]",
      "text/plain": [
       "<Figure size 640x480 with 1 Axes>"
      ]
     },
     "metadata": {},
     "output_type": "display_data"
    }
   ],
   "source": [
    "plt.plot(figure1_data['postcwy'], figure1_data['autochostperc'],marker='o', color='black')\n",
    "\n",
    "plt.title('Autocratic Hosts of International Sports Events, 1990–2024', pad=20)\n",
    "plt.xlabel('Years')\n",
    "plt.ylabel('Autocratic host regimes (in %)')\n",
    "\n",
    "#set y axis ticks\n",
    "plt.yticks([0, 10, 20, 30, 40, 50])\n",
    "\n",
    "#get axis and remove top and right spines\n",
    "ax = plt.gca()\n",
    "ax.spines['right'].set_color('none')\n",
    "ax.spines['top'].set_color('none')\n",
    "\n",
    "#rotate x axis ticks\n",
    "plt.xticks(rotation=40, ha='right', rotation_mode='anchor')\n",
    "\n",
    "plt.savefig(\"figures/autocratic_hosts.png\")\n",
    "\n",
    "plt.show()"
   ]
  },
  {
   "cell_type": "markdown",
   "id": "d47b98dd",
   "metadata": {},
   "source": [
    "### Figure SI.1.1. Host regimes of international sports event"
   ]
  },
  {
   "cell_type": "markdown",
   "id": "cece1848",
   "metadata": {},
   "source": [
    "The figure shows all breaks down all democratic and autocratic host regimes of the most prominent international sports events since 1945\n",
    "* **Black** and **grey** spikes indicate **autocratic** and **democratic** host regimes respectively"
   ]
  },
  {
   "cell_type": "markdown",
   "id": "f5db2a19",
   "metadata": {},
   "source": [
    "Read [figure SI.1.1. data](https://dataverse.harvard.edu/file.xhtml?fileId=6358357&version=1.0) from the [replication package](https://dataverse.harvard.edu/dataset.xhtml?persistentId=doi:10.7910/DVN/RJY34I)\n",
    "* **baseline** has a different value for every sport event and indicates where the line for every event should be placed in the figure\n",
    "* **democ** is a number **0.5 above** for every baseline or NaN. Being 0.5 above indicates that a democratic host existed in that year for that sport event and being NaN indicates the opposite\n",
    "* **autoc** is a number **0.5 below** for every baseline or NaN. Being 0.5 below indicates that a autocratic host existed in that year for that sport event and being NaN indicates the opposite"
   ]
  },
  {
   "cell_type": "code",
   "execution_count": 19,
   "id": "141f274c",
   "metadata": {},
   "outputs": [
    {
     "data": {
      "text/html": [
       "<div>\n",
       "<style scoped>\n",
       "    .dataframe tbody tr th:only-of-type {\n",
       "        vertical-align: middle;\n",
       "    }\n",
       "\n",
       "    .dataframe tbody tr th {\n",
       "        vertical-align: top;\n",
       "    }\n",
       "\n",
       "    .dataframe thead th {\n",
       "        text-align: right;\n",
       "    }\n",
       "</style>\n",
       "<table border=\"1\" class=\"dataframe\">\n",
       "  <thead>\n",
       "    <tr style=\"text-align: right;\">\n",
       "      <th></th>\n",
       "      <th>year</th>\n",
       "      <th>regime</th>\n",
       "      <th>baseline</th>\n",
       "      <th>democ</th>\n",
       "      <th>autoc</th>\n",
       "    </tr>\n",
       "  </thead>\n",
       "  <tbody>\n",
       "    <tr>\n",
       "      <th>0</th>\n",
       "      <td>1987.0</td>\n",
       "      <td>0.0</td>\n",
       "      <td>2.5</td>\n",
       "      <td>3.0</td>\n",
       "      <td>NaN</td>\n",
       "    </tr>\n",
       "    <tr>\n",
       "      <th>1</th>\n",
       "      <td>1987.0</td>\n",
       "      <td>0.0</td>\n",
       "      <td>2.5</td>\n",
       "      <td>3.0</td>\n",
       "      <td>NaN</td>\n",
       "    </tr>\n",
       "    <tr>\n",
       "      <th>2</th>\n",
       "      <td>1991.0</td>\n",
       "      <td>0.0</td>\n",
       "      <td>2.5</td>\n",
       "      <td>3.0</td>\n",
       "      <td>NaN</td>\n",
       "    </tr>\n",
       "    <tr>\n",
       "      <th>3</th>\n",
       "      <td>1991.0</td>\n",
       "      <td>0.0</td>\n",
       "      <td>2.5</td>\n",
       "      <td>3.0</td>\n",
       "      <td>NaN</td>\n",
       "    </tr>\n",
       "    <tr>\n",
       "      <th>4</th>\n",
       "      <td>1995.0</td>\n",
       "      <td>1.0</td>\n",
       "      <td>2.5</td>\n",
       "      <td>NaN</td>\n",
       "      <td>2.0</td>\n",
       "    </tr>\n",
       "  </tbody>\n",
       "</table>\n",
       "</div>"
      ],
      "text/plain": [
       "     year  regime  baseline  democ  autoc\n",
       "0  1987.0     0.0       2.5    3.0    NaN\n",
       "1  1987.0     0.0       2.5    3.0    NaN\n",
       "2  1991.0     0.0       2.5    3.0    NaN\n",
       "3  1991.0     0.0       2.5    3.0    NaN\n",
       "4  1995.0     1.0       2.5    NaN    2.0"
      ]
     },
     "execution_count": 19,
     "metadata": {},
     "output_type": "execute_result"
    }
   ],
   "source": [
    "figureSI11_data = pd.read_csv('data/figure_SI11_data.tab', sep='\\t')\n",
    "figureSI11_data.head()"
   ]
  },
  {
   "cell_type": "markdown",
   "id": "fa6b55ef",
   "metadata": {},
   "source": [
    "List with all the unique baseline values"
   ]
  },
  {
   "cell_type": "code",
   "execution_count": 20,
   "id": "6e89ce29",
   "metadata": {},
   "outputs": [],
   "source": [
    "baselines=figureSI11_data['baseline'].unique()"
   ]
  },
  {
   "cell_type": "markdown",
   "id": "72e7c731",
   "metadata": {},
   "source": [
    "List with the international sport events names"
   ]
  },
  {
   "cell_type": "code",
   "execution_count": 21,
   "id": "1ef699ba",
   "metadata": {},
   "outputs": [],
   "source": [
    "names=[ 'Rugby World Cup',\n",
    "            'Winter Olympic Games',\n",
    "            'Summer Olympic Games',\n",
    "            'World Athletics Championships',\n",
    "            'Ice Hockey World Championships',\n",
    "            'FIFA World Cup',\n",
    "            'Cricket World Cup',\n",
    "            'World Handball Championship',\n",
    "            'World Table Tennis Championships',\n",
    "            'Basketball World Cup',\n",
    "            'Volleyball World Championship'\n",
    "      ]"
   ]
  },
  {
   "cell_type": "markdown",
   "id": "dd7d9a89",
   "metadata": {},
   "source": [
    "Use [event plot](https://matplotlib.org/stable/api/_as_gen/matplotlib.pyplot.eventplot.html) from matplot to create the figure\n",
    "* **Event plot** creates identical parallel lines at given positions\n",
    "* With event plot we can generate the democratic and autocratic bars for every sport event\n",
    "* Every **democratic bar** is ploted 0.5 above the baseline (lineoffsets) of the sport event and with **black color**\n",
    "* Every **autocratic bar** is ploted 0.5 below the baseline (lineoffsets) of the sport event and with **grey color**\n",
    "* Sport events baselines are plotted with a grey line"
   ]
  },
  {
   "cell_type": "code",
   "execution_count": 22,
   "id": "08477e4f",
   "metadata": {},
   "outputs": [
    {
     "data": {
      "image/png": "[encoded data removed]",
      "text/plain": [
       "<Figure size 750x550 with 1 Axes>"
      ]
     },
     "metadata": {},
     "output_type": "display_data"
    }
   ],
   "source": [
    "fig, axs = plt.subplots()\n",
    "\n",
    "for g in baselines:\n",
    "    #get baseline data\n",
    "    baseline_data=figureSI11_data[figureSI11_data['baseline']==g]\n",
    "    democ=baseline_data[baseline_data['democ']>g]\n",
    "    autoc=baseline_data[baseline_data['autoc']<g]\n",
    "    \n",
    "    #plot the democratic bars 0.5 above baseline with lineoffset\n",
    "    axs.eventplot(democ['year'],\n",
    "                  lineoffsets= g + 0.5,\n",
    "                  linelengths=1,\n",
    "                  linewidths=3,\n",
    "                  color = ['#9E9E9E'])\n",
    "    \n",
    "    #plot the autocratic bars 0.5 below baseline with lineoffset\n",
    "    axs.eventplot(autoc['year'],\n",
    "                  lineoffsets= g - 0.5,\n",
    "                  linelengths=1,\n",
    "                  linewidths=3,\n",
    "                  color = ['#424242'])\n",
    "    \n",
    "    #plot baseline line\n",
    "    plt.axhline(y = g, color = '#9E9E9E', linestyle = '-', linewidth=1)\n",
    "    \n",
    "#remove top and right spines\n",
    "axs.spines['right'].set_color('none')\n",
    "axs.spines['top'].set_color('none')\n",
    "\n",
    "#set baseline y axis ticks\n",
    "plt.yticks([2.5, 5.0, 7.5, 10.0, 12.5, 15.0, 17.5, 20.0, 22.5, 25.0, 27.5])\n",
    "\n",
    "#set y axis tick labels\n",
    "axs.set_yticklabels(names)\n",
    "\n",
    "axs.set_title('Host regimes of international sports event, 1945-2024', pad=10)\n",
    "\n",
    "plt.tight_layout()\n",
    "fig.set_size_inches(7.5, 5.5, forward=True)\n",
    "\n",
    "plt.savefig(\"figures/host_regimes_breakdown.png\")\n",
    "\n",
    "plt.show()"
   ]
  },
  {
   "cell_type": "markdown",
   "id": "ed57de0d",
   "metadata": {},
   "source": [
    "## Q2: Repression in Departments with and without Host Cities"
   ]
  },
  {
   "cell_type": "markdown",
   "id": "51c3cdef",
   "metadata": {},
   "source": [
    "Replication of **Table SI.4.1.** Linear regressions (OLS) for repression in departments with and without host cities"
   ]
  },
  {
   "cell_type": "markdown",
   "id": "c5653a8a",
   "metadata": {},
   "source": [
    "To examine the repression in departments with and without host cities the authors of the publication have developed the following hypothesis:\n",
    "* **Hypothesis 1**: In the run-up to an international sports tournament, state repression spikes in host cities, but not in other cities\n",
    "* **Hypothesis 2**: During an international sports tournament, state repression drops in host cities but remains unchanged in other cities"
   ]
  },
  {
   "cell_type": "markdown",
   "id": "e94b1192",
   "metadata": {},
   "source": [
    "They validate their hypotheses they use a series of regression analyses. They use negative binomial regression models, but they find that their findings are robust with **Ordinary Least Squares (OLS)** so I will focus on that regression analysis."
   ]
  },
  {
   "cell_type": "markdown",
   "id": "423b2e5a",
   "metadata": {},
   "source": [
    "Regression model:"
   ]
  },
  {
   "cell_type": "markdown",
   "id": "53d40db9",
   "metadata": {},
   "source": [
    "$$\n",
    "y_i,_t = α + β1HostCityi ∗ Time_t + β2HostCity_i ∗ Time^2_t\n",
    "+ β3HostCity_i + β4Time_t + β5Time^2_t+ γX_i + ϵ_i,_t,\n",
    "$$"
   ]
  },
  {
   "cell_type": "markdown",
   "id": "e47000cf",
   "metadata": {},
   "source": [
    "where y is number of **repression** events in department i at day t. α is the intercept,\n",
    "the coefficients β1 and β2 capture repression dynamics in **host and non-host** cities. γt\n",
    "is\n",
    "a vector of coefficients for the time-invariant **control variables**. Unobserved determinants\n",
    "of repression events are captured by the error term ϵi,t."
   ]
  },
  {
   "cell_type": "markdown",
   "id": "cea8ba91",
   "metadata": {},
   "source": [
    "Depended variable explanation:\n",
    "* In the **negative binomial** model they use the **repression** as the depended variable. In the **OLS** model we have a **log-linear model** and thus we will use the natural logarithm: **ln(repression)**\n",
    "* The **repression** variable is **discrete** and thus it can take on only a specific set of values and because it is count it can take only positive values\n",
    "* **OLS** is typically used to model relationships between **continuous** variables the model may not accurately reflect the underlying relationship between the variables\n",
    "* To solve this issue we can use a **ln transformation** of the dependent variable\n",
    "* Also the logarithmic transformation can help with **normalizing** the **skewed distribution** of the repression and thus improve the **accuracy** and **reliability** of the OLS results. "
   ]
  },
  {
   "cell_type": "markdown",
   "id": "f8f243ef",
   "metadata": {},
   "source": [
    "Independed variables explanation:\n",
    "* **HostCity x Time**: an **interaction variable** that is used to calculate the interaction coeffiient between the hostcity (1 for hosts and 0 for non hosts) and time. It helps to test **hypothesis 1** because it allows us to determine whether the effect of time on the outcome is different depending on the value of the hostcity.\n",
    "* **Square of Time**: a **quadratic variable** accounts for the **inverted U** shaped relationship stated by hypotheses 1 and 2. It produces a curvature that can reverse the direction of the relationship of HostCity x Time. The relationship that the hypothesis state is not linear because as the time progresses the repression is not increasing proportionally. There is a turning point that after that the repression decreases. The quadratic variable allow us to capture that complex pattern.\n",
    "* **HostCity x Square of Time**: an **interaction quadratic variable**. Is used to calculate the interaction coeffiient between the hostcity and square of time and helps test the **hypothesis 2** because it can capture the **sensitivity** of the repression as the value of time increases exponentially.\n",
    "* **Control variables**: they might have an impact at the selection of host cities and the repression: literacy rate, population size, peronist vote, rebel activity, past repression"
   ]
  },
  {
   "cell_type": "markdown",
   "id": "dc3affdc",
   "metadata": {},
   "source": [
    "Read the [main_data file](https://dataverse.harvard.edu/file.xhtml?fileId=6358368&version=1.0) from the [replication package](https://dataverse.harvard.edu/dataset.xhtml?persistentId=doi:10.7910/DVN/RJY34I)"
   ]
  },
  {
   "cell_type": "code",
   "execution_count": 23,
   "id": "3209dd1d",
   "metadata": {},
   "outputs": [],
   "source": [
    "main_data = pd.read_csv('data/main_data.tab', sep='\\t')"
   ]
  },
  {
   "cell_type": "markdown",
   "id": "e09656af",
   "metadata": {},
   "source": [
    "### OLS Model 1"
   ]
  },
  {
   "cell_type": "markdown",
   "id": "ea6f2785",
   "metadata": {},
   "source": [
    "Run the first linear regression model **without** the **control** and **zone FE** variables\n",
    "* **Heteroscedasticity** refers to the situation where the variance of the errors (residuals) in a regression model is not constant\n",
    "* It can affect the **accuracy** of the **standard errors** and thus the statistical significance of the coefficients and the overall fit of the model\n",
    "* To address this issue the authors use heteroscedasticity-robust standard errors\n",
    "* I will use **hc1** for robust standard errors"
   ]
  },
  {
   "cell_type": "code",
   "execution_count": 24,
   "id": "849a7ee6",
   "metadata": {},
   "outputs": [
    {
     "name": "stdout",
     "output_type": "stream",
     "text": [
      "                            OLS Regression Results                            \n",
      "==============================================================================\n",
      "Dep. Variable:           lnrepression   R-squared:                       0.046\n",
      "Model:                            OLS   Adj. R-squared:                  0.045\n",
      "Method:                 Least Squares   F-statistic:                     13.90\n",
      "Date:                Mon, 19 Dec 2022   Prob (F-statistic):           1.31e-13\n",
      "Time:                        21:20:59   Log-Likelihood:                 89824.\n",
      "No. Observations:               58107   AIC:                        -1.796e+05\n",
      "Df Residuals:                   58101   BIC:                        -1.796e+05\n",
      "Df Model:                           5                                         \n",
      "Covariance Type:                  hc1                                         \n",
      "=================================================================================\n",
      "                    coef    std err          z      P>|z|      [0.025      0.975]\n",
      "---------------------------------------------------------------------------------\n",
      "const             0.0026      0.001      4.027      0.000       0.001       0.004\n",
      "hostcitytime      0.4012      0.144      2.780      0.005       0.118       0.684\n",
      "hostcitytime2    -0.3230      0.110     -2.923      0.003      -0.540      -0.106\n",
      "hostcity          0.0202      0.034      0.591      0.554      -0.047       0.087\n",
      "time             -0.0028      0.002     -1.233      0.218      -0.007       0.002\n",
      "time2             0.0020      0.002      1.132      0.258      -0.001       0.006\n",
      "==============================================================================\n",
      "Omnibus:                   125118.610   Durbin-Watson:                   1.677\n",
      "Prob(Omnibus):                  0.000   Jarque-Bera (JB):        514921392.904\n",
      "Skew:                          19.504   Prob(JB):                         0.00\n",
      "Kurtosis:                     462.518   Cond. No.                         201.\n",
      "==============================================================================\n",
      "\n",
      "Notes:\n",
      "[1] Standard Errors are heteroscedasticity robust (HC1)\n"
     ]
    }
   ],
   "source": [
    "x = main_data[['hostcitytime', 'hostcitytime2', 'hostcity', 'time', 'time2']]\n",
    "y = main_data['lnrepression']\n",
    "x = sm.add_constant(x)\n",
    "\n",
    "#fit linear regression model\n",
    "model1 = sm.OLS(y, x, missing='drop').fit(cov_type=\"hc1\")\n",
    "\n",
    "#view model summary\n",
    "print(model1.summary())"
   ]
  },
  {
   "cell_type": "markdown",
   "id": "7b52f063",
   "metadata": {},
   "source": [
    "### OLS Model 2"
   ]
  },
  {
   "cell_type": "markdown",
   "id": "f0b348a0",
   "metadata": {},
   "source": [
    "Run the first linear regression model **with** the **control** variables"
   ]
  },
  {
   "cell_type": "code",
   "execution_count": 25,
   "id": "2853f9e4",
   "metadata": {},
   "outputs": [
    {
     "name": "stdout",
     "output_type": "stream",
     "text": [
      "                            OLS Regression Results                            \n",
      "==============================================================================\n",
      "Dep. Variable:           lnrepression   R-squared:                       0.059\n",
      "Model:                            OLS   Adj. R-squared:                  0.058\n",
      "Method:                 Least Squares   F-statistic:                     17.56\n",
      "Date:                Mon, 19 Dec 2022   Prob (F-statistic):           2.16e-32\n",
      "Time:                        21:20:59   Log-Likelihood:                 86804.\n",
      "No. Observations:               56394   AIC:                        -1.736e+05\n",
      "Df Residuals:                   56383   BIC:                        -1.735e+05\n",
      "Df Model:                          10                                         \n",
      "Covariance Type:                  hc1                                         \n",
      "=====================================================================================\n",
      "                        coef    std err          z      P>|z|      [0.025      0.975]\n",
      "-------------------------------------------------------------------------------------\n",
      "const                -0.0041      0.002     -2.056      0.040      -0.008      -0.000\n",
      "hostcitytime          0.4014      0.143      2.801      0.005       0.121       0.682\n",
      "hostcitytime2        -0.3231      0.110     -2.945      0.003      -0.538      -0.108\n",
      "hostcity             -0.0037      0.034     -0.109      0.913      -0.070       0.063\n",
      "time                 -0.0030      0.002     -1.297      0.195      -0.008       0.002\n",
      "time2                 0.0022      0.002      1.190      0.234      -0.001       0.006\n",
      "lnpop_1970            0.0010      0.000      4.623      0.000       0.001       0.001\n",
      "vote_frejuli       -3.22e-05   1.86e-05     -1.727      0.084   -6.87e-05    4.34e-06\n",
      "literacy_avg         -0.0056      0.001     -5.192      0.000      -0.008      -0.003\n",
      "lnrebact1974         -0.0001      0.000     -0.939      0.348      -0.000       0.000\n",
      "lnrepression70_77     0.0041      0.000     10.816      0.000       0.003       0.005\n",
      "==============================================================================\n",
      "Omnibus:                   119962.002   Durbin-Watson:                   1.698\n",
      "Prob(Omnibus):                  0.000   Jarque-Bera (JB):        462693274.776\n",
      "Skew:                          18.965   Prob(JB):                         0.00\n",
      "Kurtosis:                     445.123   Cond. No.                     9.29e+03\n",
      "==============================================================================\n",
      "\n",
      "Notes:\n",
      "[1] Standard Errors are heteroscedasticity robust (HC1)\n",
      "[2] The condition number is large, 9.29e+03. This might indicate that there are\n",
      "strong multicollinearity or other numerical problems.\n"
     ]
    }
   ],
   "source": [
    "x = main_data[['hostcitytime', 'hostcitytime2', 'hostcity', 'time', 'time2', 'lnpop_1970',\n",
    "          'vote_frejuli', 'literacy_avg', 'lnrebact1974', 'lnrepression70_77']]\n",
    "y = main_data['lnrepression']\n",
    "x = sm.add_constant(x)\n",
    "\n",
    "#fit linear regression model\n",
    "model2 = sm.OLS(y, x, missing='drop').fit(cov_type=\"hc1\")\n",
    "\n",
    "#view model summary\n",
    "print(model2.summary())"
   ]
  },
  {
   "cell_type": "markdown",
   "id": "c3ea32a8",
   "metadata": {},
   "source": [
    "### OLS Model 3"
   ]
  },
  {
   "cell_type": "markdown",
   "id": "a4c3009e",
   "metadata": {},
   "source": [
    "Run model 3 with the **control** and **zone FE** variables"
   ]
  },
  {
   "cell_type": "code",
   "execution_count": 26,
   "id": "3d31d67a",
   "metadata": {},
   "outputs": [
    {
     "name": "stdout",
     "output_type": "stream",
     "text": [
      "                            OLS Regression Results                            \n",
      "==============================================================================\n",
      "Dep. Variable:           lnrepression   R-squared:                       0.063\n",
      "Model:                            OLS   Adj. R-squared:                  0.063\n",
      "Method:                 Least Squares   F-statistic:                     12.96\n",
      "Date:                Mon, 19 Dec 2022   Prob (F-statistic):           3.72e-31\n",
      "Time:                        21:20:59   Log-Likelihood:                 86946.\n",
      "No. Observations:               56394   AIC:                        -1.739e+05\n",
      "Df Residuals:                   56379   BIC:                        -1.737e+05\n",
      "Df Model:                          14                                         \n",
      "Covariance Type:                  hc1                                         \n",
      "=====================================================================================\n",
      "                        coef    std err          z      P>|z|      [0.025      0.975]\n",
      "-------------------------------------------------------------------------------------\n",
      "const                -0.0039      0.002     -1.660      0.097      -0.009       0.001\n",
      "hostcitytime          0.4014      0.142      2.825      0.005       0.123       0.680\n",
      "hostcitytime2        -0.3231      0.109     -2.969      0.003      -0.536      -0.110\n",
      "hostcity             -0.0040      0.034     -0.120      0.905      -0.070       0.062\n",
      "time                 -0.0030      0.002     -1.296      0.195      -0.008       0.002\n",
      "time2                 0.0022      0.002      1.190      0.234      -0.001       0.006\n",
      "lnpop_1970            0.0033      0.000      7.884      0.000       0.002       0.004\n",
      "vote_frejuli       1.047e-05   2.41e-05      0.434      0.664   -3.68e-05    5.78e-05\n",
      "literacy_avg         -0.0231      0.002     -9.286      0.000      -0.028      -0.018\n",
      "lnrebact1974         -0.0014      0.000     -6.792      0.000      -0.002      -0.001\n",
      "lnrepression70_77     0.0032      0.000      8.267      0.000       0.002       0.004\n",
      "zone2                -0.0147      0.002     -9.506      0.000      -0.018      -0.012\n",
      "zone3                -0.0117      0.001     -9.012      0.000      -0.014      -0.009\n",
      "zone4                -0.0082      0.004     -2.171      0.030      -0.016      -0.001\n",
      "zone5                -0.0092      0.001     -9.207      0.000      -0.011      -0.007\n",
      "==============================================================================\n",
      "Omnibus:                   119662.654   Durbin-Watson:                   1.707\n",
      "Prob(Omnibus):                  0.000   Jarque-Bera (JB):        456844768.905\n",
      "Skew:                          18.855   Prob(JB):                         0.00\n",
      "Kurtosis:                     442.318   Cond. No.                     9.29e+03\n",
      "==============================================================================\n",
      "\n",
      "Notes:\n",
      "[1] Standard Errors are heteroscedasticity robust (HC1)\n",
      "[2] The condition number is large, 9.29e+03. This might indicate that there are\n",
      "strong multicollinearity or other numerical problems.\n"
     ]
    }
   ],
   "source": [
    "x = main_data[['hostcitytime', 'hostcitytime2', 'hostcity', 'time', 'time2', 'lnpop_1970',\n",
    "          'vote_frejuli', 'literacy_avg', 'lnrebact1974', 'lnrepression70_77', 'zone2', 'zone3', 'zone4', 'zone5']]\n",
    "y = main_data['lnrepression']\n",
    "x = sm.add_constant(x)\n",
    "\n",
    "#fit linear regression model\n",
    "model3 = sm.OLS(y, x, missing='drop').fit(cov_type=\"hc1\")\n",
    "\n",
    "#view model summary\n",
    "print(model3.summary())"
   ]
  },
  {
   "cell_type": "markdown",
   "id": "afa92eb5",
   "metadata": {},
   "source": [
    "### Summarize models and interpret the results"
   ]
  },
  {
   "cell_type": "markdown",
   "id": "098b85db",
   "metadata": {},
   "source": [
    "Use stargazer to summarize the three models in the same table"
   ]
  },
  {
   "cell_type": "code",
   "execution_count": 27,
   "id": "23fc953e",
   "metadata": {},
   "outputs": [
    {
     "data": {
      "text/html": [
       "Linear regressions (OLS) for repression in departments with and without host cities<br><table style=\"text-align:center\"><tr><td colspan=\"4\" style=\"border-bottom: 1px solid black\"></td></tr><tr><td style=\"text-align:left\"></td><td colspan=\"3\"><em>Dependent variable:lnrepression</em></td></tr><tr><td style=\"text-align:left\"></td><tr><td style=\"text-align:left\"></td><td>(1)</td><td>(2)</td><td>(3)</td></tr><tr><td colspan=\"4\" style=\"border-bottom: 1px solid black\"></td></tr><tr><td style=\"text-align:left\">hostcitytime</td><td>0.401<sup>**</sup></td><td>0.401<sup>**</sup></td><td>0.401<sup>**</sup></td></tr><tr><td style=\"text-align:left\"></td><td>(0.144)</td><td>(0.143)</td><td>(0.142)</td></tr><tr><td style=\"text-align:left\">hostcitytime2</td><td>-0.323<sup>**</sup></td><td>-0.323<sup>**</sup></td><td>-0.323<sup>**</sup></td></tr><tr><td style=\"text-align:left\"></td><td>(0.110)</td><td>(0.110)</td><td>(0.109)</td></tr><tr><td style=\"text-align:left\">hostcity</td><td>0.020<sup></sup></td><td>-0.004<sup></sup></td><td>-0.004<sup></sup></td></tr><tr><td style=\"text-align:left\"></td><td>(0.034)</td><td>(0.034)</td><td>(0.034)</td></tr><tr><td style=\"text-align:left\">time</td><td>-0.003<sup></sup></td><td>-0.003<sup></sup></td><td>-0.003<sup></sup></td></tr><tr><td style=\"text-align:left\"></td><td>(0.002)</td><td>(0.002)</td><td>(0.002)</td></tr><tr><td style=\"text-align:left\">time2</td><td>0.002<sup></sup></td><td>0.002<sup></sup></td><td>0.002<sup></sup></td></tr><tr><td style=\"text-align:left\"></td><td>(0.002)</td><td>(0.002)</td><td>(0.002)</td></tr><tr><td style=\"text-align:left\">lnpop_1970</td><td></td><td>0.001<sup>***</sup></td><td>0.003<sup>***</sup></td></tr><tr><td style=\"text-align:left\"></td><td></td><td>(0.000)</td><td>(0.000)</td></tr><tr><td style=\"text-align:left\">literacy_avg</td><td></td><td>-0.006<sup>***</sup></td><td>-0.023<sup>***</sup></td></tr><tr><td style=\"text-align:left\"></td><td></td><td>(0.001)</td><td>(0.002)</td></tr><tr><td style=\"text-align:left\">vote_frejuli</td><td></td><td>-0.000<sup></sup></td><td>0.000<sup></sup></td></tr><tr><td style=\"text-align:left\"></td><td></td><td>(0.000)</td><td>(0.000)</td></tr><tr><td style=\"text-align:left\">lnrebact1974</td><td></td><td>-0.000<sup></sup></td><td>-0.001<sup>***</sup></td></tr><tr><td style=\"text-align:left\"></td><td></td><td>(0.000)</td><td>(0.000)</td></tr><tr><td style=\"text-align:left\">lnrepression70_77</td><td></td><td>0.004<sup>***</sup></td><td>0.003<sup>***</sup></td></tr><tr><td style=\"text-align:left\"></td><td></td><td>(0.000)</td><td>(0.000)</td></tr><tr><td style=\"text-align:left\">const</td><td>0.003<sup>***</sup></td><td>-0.004<sup>*</sup></td><td>-0.004<sup></sup></td></tr><tr><td style=\"text-align:left\"></td><td>(0.001)</td><td>(0.002)</td><td>(0.002)</td></tr><tr><td style=\"text-align: left\">Controls</td><td>&#x2718</td><td>&#x2714</td><td>&#x2714</td></tr><tr><td style=\"text-align: left\">Zone FE</td><td>&#x2718</td><td>&#x2718</td><td>&#x2714</td></tr><td colspan=\"4\" style=\"border-bottom: 1px solid black\"></td></tr><tr><td style=\"text-align: left\">Observations</td><td>58,107</td><td>56,394</td><td>56,394</td></tr><tr><td style=\"text-align: left\">R<sup>2</sup></td><td>0.046</td><td>0.059</td><td>0.063</td></tr><tr><td style=\"text-align: left\">Adjusted R<sup>2</sup></td><td>0.045</td><td>0.058</td><td>0.063</td></tr><tr><td style=\"text-align: left\">F Statistic</td><td>13.905<sup>***</sup></td><td>17.561<sup>***</sup></td><td>12.961<sup>***</sup></td></tr><tr><td colspan=\"4\" style=\"border-bottom: 1px solid black\"></td></tr><tr><td style=\"text-align: left\">Note:</td>\n",
       " <td colspan=\"3\" style=\"text-align: right\">\n",
       "  <sup>*</sup>p&lt;0.05;\n",
       "  <sup>**</sup>p&lt;0.01;\n",
       "  <sup>***</sup>p&lt;0.001\n",
       " </td></tr><tr><td></td><td colspan=\"3\" style=\"text-align: right\"> Values are coefficients with robust standard errors in parentheses</td></tr></table>"
      ],
      "text/plain": [
       "<IPython.core.display.HTML object>"
      ]
     },
     "execution_count": 27,
     "metadata": {},
     "output_type": "execute_result"
    }
   ],
   "source": [
    "stargazer = Stargazer([model1, model2, model3])\n",
    "\n",
    "stargazer.title('Linear regressions (OLS) for repression in departments with and without host cities')\n",
    "\n",
    "#change covarietes order\n",
    "stargazer.covariate_order(['hostcitytime', 'hostcitytime2', 'hostcity', 'time', 'time2', \n",
    "                          'lnpop_1970', 'literacy_avg', 'vote_frejuli', 'lnrebact1974',\n",
    "                           'lnrepression70_77', 'const'])\n",
    "\n",
    "stargazer.show_degrees_of_freedom(False)\n",
    "\n",
    "#add controls and zone FE notes\n",
    "stargazer.add_line('Controls', ['&#x2718', '&#x2714', '&#x2714'])\n",
    "stargazer.add_line('Zone FE', ['&#x2718', '&#x2718', '&#x2714'])\n",
    "\n",
    "#set significance levels\n",
    "stargazer.significance_levels([0.001, 0.01, 0.05])\n",
    "\n",
    "stargazer.add_custom_notes([' Values are coefficients with robust standard errors in parentheses'])\n",
    "\n",
    "stargazer.show_residual_std_err= False\n",
    "\n",
    "#show summary in html format\n",
    "HTML(stargazer.render_html())"
   ]
  },
  {
   "cell_type": "markdown",
   "id": "0d2dee2f",
   "metadata": {},
   "source": [
    "To interpret the results I will use the **coefficients** because they are related with the **hypothesis 1 & 2**"
   ]
  },
  {
   "cell_type": "markdown",
   "id": "0e37d241",
   "metadata": {},
   "source": [
    "**hostcitytime**\n",
    "* the variable is statistically **significant** for the 3 models because it has p<0.05 and thus as the hypothesis 1 indicates it has significant impact in the repression\n",
    "* the coefficient compared to the hostcitytime2 it has a bigger value thus it has more impact\n",
    "* it has a **positive** sign and thus as time prior to the world cup progress the repression is increasing in host cities"
   ]
  },
  {
   "cell_type": "markdown",
   "id": "ed912ad6",
   "metadata": {},
   "source": [
    "**hostcitytime2**\n",
    "* the variable is statistically **significant** for the 3 models because it has p<0.05 and thus as the hypothesis 2 indicates it has significant impact in the repression\n",
    "* the hostcity interacts with the variable time2 which is **quadratic** and the sign of the interaction variable is negative that results in the **inverted U shape**\n",
    "* also the **negative** sign means that as time progress the repression events are decreasing exponentially in host cities"
   ]
  },
  {
   "cell_type": "markdown",
   "id": "8d13347f",
   "metadata": {},
   "source": [
    "**hostcity, time, time2**\n",
    "* the variables are statistically **unsignificant** because they have p>0.05 and that means that they don't have an impact in the repression"
   ]
  },
  {
   "cell_type": "markdown",
   "id": "09b03dfd",
   "metadata": {},
   "source": [
    "**control variables**\n",
    "* some of the variables are statistically significant while others not\n",
    "* for the variables that are statistical significant the coefficients are very small and that indicates that they have a **small impact** in repression\n",
    "* when we add those variables to model 1 the coefficient of the hostcitytime and the hostcitytime2 is **not affected** and that means that they don't have a significant impact in the model in general"
   ]
  },
  {
   "cell_type": "markdown",
   "id": "a608120f",
   "metadata": {},
   "source": [
    "**In total**, the repression is mainly affected by the **hostcitytime** and the **hostcitytime2**. For the **host cities** in the beginning the repression is increasing because the hostcitytime has the bigger coefficient and a positive sign. As time progresses the hostcitytime2 that has a negative sign increases significantly because time2 increases exponentially. Although hostcitytime has a smaller coefficient due to the exponental time increase the total negative value becomes significant and as a result it decreases the repression. For the **non host** cities the hostcity takes the 0 value so hostcitytime and hostcitytime2 are zeroed out. Because the repression mainly depends on those variables it will remain unchanged."
   ]
  },
  {
   "cell_type": "markdown",
   "id": "133ed93d",
   "metadata": {},
   "source": [
    "**Note**: I will not interpret the **R square** and the **F statistic** because OLS is a linear regression model that captures the linear relationship between the dependent and the independent variables. In this case the hypothesis states that the relationship we are testing is **not linear** as I explained above. "
   ]
  },
  {
   "cell_type": "markdown",
   "id": "4e6a143d",
   "metadata": {},
   "source": [
    "## Q3: Graphical Overview of Effects"
   ]
  },
  {
   "cell_type": "markdown",
   "id": "1a4db29e",
   "metadata": {},
   "source": [
    "Replication of the **figure 5** in the paper with the **OLS** model and **enrichment** with the actual repression data\n",
    "* Figure 5 shows predicted numbers of daily repression events in departments with host cities and in other departments. Calculations are based on interaction effects of Model 3, Table 1, with control variables held at observed values\n",
    "* I will replicate this figure using the effects of the Model 3 with the OLS method because as stated in the paper and as I proved in Q2 the effects of the negative binomial model are robust with the OLS model"
   ]
  },
  {
   "cell_type": "markdown",
   "id": "d7dd810d",
   "metadata": {},
   "source": [
    "Read the [main_data file](https://dataverse.harvard.edu/file.xhtml?fileId=6358368&version=1.0) from the [replication package](https://dataverse.harvard.edu/dataset.xhtml?persistentId=doi:10.7910/DVN/RJY34I)"
   ]
  },
  {
   "cell_type": "code",
   "execution_count": 28,
   "id": "4b44a331",
   "metadata": {},
   "outputs": [],
   "source": [
    "main_data = pd.read_csv('data/main_data.tab', sep='\\t')"
   ]
  },
  {
   "cell_type": "markdown",
   "id": "fd46e4fc",
   "metadata": {},
   "source": [
    "Run **OLS** regression model with the **control** and **zone FE** variables"
   ]
  },
  {
   "cell_type": "code",
   "execution_count": 29,
   "id": "100204fb",
   "metadata": {},
   "outputs": [
    {
     "name": "stdout",
     "output_type": "stream",
     "text": [
      "                            OLS Regression Results                            \n",
      "==============================================================================\n",
      "Dep. Variable:           lnrepression   R-squared:                       0.063\n",
      "Model:                            OLS   Adj. R-squared:                  0.063\n",
      "Method:                 Least Squares   F-statistic:                     12.96\n",
      "Date:                Mon, 19 Dec 2022   Prob (F-statistic):           3.72e-31\n",
      "Time:                        21:21:01   Log-Likelihood:                 86946.\n",
      "No. Observations:               56394   AIC:                        -1.739e+05\n",
      "Df Residuals:                   56379   BIC:                        -1.737e+05\n",
      "Df Model:                          14                                         \n",
      "Covariance Type:                  hc1                                         \n",
      "=====================================================================================\n",
      "                        coef    std err          z      P>|z|      [0.025      0.975]\n",
      "-------------------------------------------------------------------------------------\n",
      "const                -0.0039      0.002     -1.660      0.097      -0.009       0.001\n",
      "hostcitytime          0.4014      0.142      2.825      0.005       0.123       0.680\n",
      "hostcitytime2        -0.3231      0.109     -2.969      0.003      -0.536      -0.110\n",
      "hostcity             -0.0040      0.034     -0.120      0.905      -0.070       0.062\n",
      "time                 -0.0030      0.002     -1.296      0.195      -0.008       0.002\n",
      "time2                 0.0022      0.002      1.190      0.234      -0.001       0.006\n",
      "lnpop_1970            0.0033      0.000      7.884      0.000       0.002       0.004\n",
      "vote_frejuli       1.047e-05   2.41e-05      0.434      0.664   -3.68e-05    5.78e-05\n",
      "literacy_avg         -0.0231      0.002     -9.286      0.000      -0.028      -0.018\n",
      "lnrebact1974         -0.0014      0.000     -6.792      0.000      -0.002      -0.001\n",
      "lnrepression70_77     0.0032      0.000      8.267      0.000       0.002       0.004\n",
      "zone2                -0.0147      0.002     -9.506      0.000      -0.018      -0.012\n",
      "zone3                -0.0117      0.001     -9.012      0.000      -0.014      -0.009\n",
      "zone4                -0.0082      0.004     -2.171      0.030      -0.016      -0.001\n",
      "zone5                -0.0092      0.001     -9.207      0.000      -0.011      -0.007\n",
      "==============================================================================\n",
      "Omnibus:                   119662.654   Durbin-Watson:                   1.707\n",
      "Prob(Omnibus):                  0.000   Jarque-Bera (JB):        456844768.905\n",
      "Skew:                          18.855   Prob(JB):                         0.00\n",
      "Kurtosis:                     442.318   Cond. No.                     9.29e+03\n",
      "==============================================================================\n",
      "\n",
      "Notes:\n",
      "[1] Standard Errors are heteroscedasticity robust (HC1)\n",
      "[2] The condition number is large, 9.29e+03. This might indicate that there are\n",
      "strong multicollinearity or other numerical problems.\n"
     ]
    }
   ],
   "source": [
    "x = main_data[['hostcitytime', 'hostcitytime2', 'hostcity', 'time', 'time2', 'lnpop_1970',\n",
    "          'vote_frejuli', 'literacy_avg', 'lnrebact1974', 'lnrepression70_77', 'zone2', 'zone3', 'zone4', 'zone5']]\n",
    "y = main_data['lnrepression']\n",
    "x = sm.add_constant(x)\n",
    "\n",
    "#fit linear regression model\n",
    "model = sm.OLS(y, x, missing='drop').fit(cov_type=\"hc1\")\n",
    "\n",
    "#view model summary\n",
    "print(model.summary())"
   ]
  },
  {
   "cell_type": "markdown",
   "id": "9d595b16",
   "metadata": {},
   "source": [
    "Generate the repression prediction based on the model that I created"
   ]
  },
  {
   "cell_type": "code",
   "execution_count": 30,
   "id": "5c2365ed",
   "metadata": {},
   "outputs": [],
   "source": [
    "results = pd.DataFrame()\n",
    "results['pre'] = model.predict(x)\n",
    "results=results.dropna()"
   ]
  },
  {
   "cell_type": "markdown",
   "id": "f02ec480",
   "metadata": {},
   "source": [
    "Because I want to plot the repression in the figure and not the ln(repression) that the model predicted I will **remove the ln** by raising e in the ln(repression) power"
   ]
  },
  {
   "cell_type": "code",
   "execution_count": 31,
   "id": "4d707819",
   "metadata": {},
   "outputs": [],
   "source": [
    "results=np.exp(results)"
   ]
  },
  {
   "cell_type": "markdown",
   "id": "bba6f62e",
   "metadata": {},
   "source": [
    "Retrieve the 95% confidence interval using the get prediction method from stats model"
   ]
  },
  {
   "cell_type": "code",
   "execution_count": 32,
   "id": "99d54e9d",
   "metadata": {},
   "outputs": [],
   "source": [
    "predictions = model.get_prediction(x)\n",
    "ci=predictions.summary_frame(alpha=0.05)\n",
    "ci=ci.dropna()"
   ]
  },
  {
   "cell_type": "markdown",
   "id": "2ee5471b",
   "metadata": {},
   "source": [
    "Remove ln from repression in the confidence interval values as well"
   ]
  },
  {
   "cell_type": "code",
   "execution_count": 33,
   "id": "3c7e66fa",
   "metadata": {},
   "outputs": [],
   "source": [
    "ci=np.exp(ci)"
   ]
  },
  {
   "cell_type": "markdown",
   "id": "978db759",
   "metadata": {},
   "source": [
    "Merge predictions with the main data"
   ]
  },
  {
   "cell_type": "code",
   "execution_count": 34,
   "id": "02ad5346",
   "metadata": {},
   "outputs": [],
   "source": [
    "results = pd.merge(results, main_data, left_index=True, right_index=True)"
   ]
  },
  {
   "cell_type": "markdown",
   "id": "330094ca",
   "metadata": {},
   "source": [
    "Separate host and non host cities for the predictions and the confidence interval"
   ]
  },
  {
   "cell_type": "code",
   "execution_count": 35,
   "id": "55d0e226",
   "metadata": {},
   "outputs": [],
   "source": [
    "host_1=results[results['hostcity']==1]\n",
    "non_host_1=results[results['hostcity']==0]\n",
    "host_95=pd.merge(ci, host_1, left_index=True, right_index=True)\n",
    "non_host_95=pd.merge(ci, non_host_1, left_index=True, right_index=True)"
   ]
  },
  {
   "cell_type": "markdown",
   "id": "007db201",
   "metadata": {},
   "source": [
    "Group by time and calculate the mean repression prediction and confidence interval"
   ]
  },
  {
   "cell_type": "code",
   "execution_count": 36,
   "id": "f5b5ca43",
   "metadata": {},
   "outputs": [],
   "source": [
    "host=host_1.groupby(by='time').mean(numeric_only=True).reset_index()\n",
    "non_host=non_host_1.groupby(by='time').mean(numeric_only=True).reset_index()\n",
    "host_95=host_95.groupby(by='time').mean(numeric_only=True).reset_index()\n",
    "non_host_95=non_host_95.groupby(by='time').mean(numeric_only=True).reset_index()"
   ]
  },
  {
   "cell_type": "markdown",
   "id": "bad95ff6",
   "metadata": {},
   "source": [
    "To enrich the figure I will also plot the moving average of the **actual repression** like the **figure 4** in the paper\n",
    "* Select the rows where time is not null\n",
    "* Group by time and calculate the **mean repression**. In the figure 4 they calculate the sum repression but I will calculate the mean for better interpretation because in the figure 5 the y axis has the mean predicted repression\n",
    "* Then I calculate the **5 day moving average**"
   ]
  },
  {
   "cell_type": "code",
   "execution_count": 37,
   "id": "99a3cbcf",
   "metadata": {},
   "outputs": [],
   "source": [
    "actual_host=main_data[main_data['hostcity']==1]\n",
    "actual_host=actual_host[actual_host['time'].notnull()]\n",
    "actual_host=actual_host[['time', 'repression']]\n",
    "actual_host=actual_host.groupby(by='time').mean().reset_index()\n",
    "actual_host['moving_avg'] = actual_host.iloc[:,1].rolling(window=5).mean()"
   ]
  },
  {
   "cell_type": "markdown",
   "id": "9795fbec",
   "metadata": {},
   "source": [
    "The same procedure for the non host cities"
   ]
  },
  {
   "cell_type": "code",
   "execution_count": 38,
   "id": "e36a6edc",
   "metadata": {},
   "outputs": [],
   "source": [
    "actual_nonhost=main_data[main_data['hostcity']==0]\n",
    "actual_nonhost=actual_nonhost[actual_nonhost['time'].notnull()]\n",
    "actual_nonhost=actual_nonhost[['time', 'repression']]\n",
    "actual_nonhost=actual_nonhost.groupby(by='time').mean().reset_index()\n",
    "actual_nonhost['moving_avg'] = actual_nonhost.iloc[:,1].rolling(window=5).mean()"
   ]
  },
  {
   "cell_type": "markdown",
   "id": "5642d88d",
   "metadata": {},
   "source": [
    "Create the world cup event window"
   ]
  },
  {
   "cell_type": "code",
   "execution_count": 39,
   "id": "97d907f4",
   "metadata": {},
   "outputs": [],
   "source": [
    "event_window = pd.DataFrame()\n",
    "event_window = results[results['time'] >= 0.93]"
   ]
  },
  {
   "cell_type": "markdown",
   "id": "ccd01e4b",
   "metadata": {},
   "source": [
    "Create a list with the x axis timestamps"
   ]
  },
  {
   "cell_type": "code",
   "execution_count": 40,
   "id": "2fec28f5",
   "metadata": {},
   "outputs": [],
   "source": [
    "dates=['March 1',\n",
    "       'April 1',\n",
    "       'May 1',\n",
    "       'June 1',\n",
    "       'June 25'    \n",
    "      ]"
   ]
  },
  {
   "cell_type": "markdown",
   "id": "ba6a7e4a",
   "metadata": {},
   "source": [
    "Plot the figure 5 with **matplot** library\n",
    "* The plot consists of **two subplots**: one for the host and one for the non host cities\n",
    "* Predicted repression is based on the ols model 3\n",
    "* **Shading** around lines gives the **95% confidence intervals** of the model\n",
    "* **World cup time window** shows when the event starts and ends\n",
    "* The **light blue line** shows the **moving average** of the actual repression"
   ]
  },
  {
   "cell_type": "code",
   "execution_count": 41,
   "id": "b26b0dae",
   "metadata": {},
   "outputs": [
    {
     "data": {
      "image/png": "[encoded data removed]",
      "text/plain": [
       "<Figure size 1000x500 with 4 Axes>"
      ]
     },
     "metadata": {},
     "output_type": "display_data"
    }
   ],
   "source": [
    "fig, axes = plt.subplots(nrows=1, ncols=2, figsize=(10,5))\n",
    "\n",
    "fig.suptitle('Substantive Effects')\n",
    "\n",
    "#create secondary axis for the two subplots\n",
    "ax2 = axes[0].twinx()\n",
    "ax3 = axes[1].twinx()\n",
    "\n",
    "#for the first subplot plot the prediction line, the 95% ci and the moving average\n",
    "axes[0].plot(host['time'], host['pre'], color='black', lw=1.5)\n",
    "ax2.plot(actual_host['time'], actual_host['moving_avg'], color='#53EFEF')\n",
    "axes[0].fill_between(host['time'], (host_95['mean_ci_lower']), (host_95['mean_ci_upper']),\n",
    "                     color='black', alpha=0.1, edgecolor='None')\n",
    "\n",
    "#for the second subplot plot the prediction line, the 95% ci and the moving average\n",
    "axes[1].plot(non_host['time'], non_host['pre'], color='black', lw=1.5, linestyle='dashed')\n",
    "ax3.plot(actual_nonhost['time'], actual_nonhost['moving_avg'], color='#53EFEF')\n",
    "axes[1].fill_between(non_host['time'], (non_host_95['mean_ci_lower']), (non_host_95['mean_ci_upper']),\n",
    "                     color='black', alpha=0.1, edgecolor='None')\n",
    "\n",
    "#plot the event windows with fill between\n",
    "axes[0].fill_between(event_window['time'], 0.96, 1.25, color='black', alpha=0.05, edgecolor='None')\n",
    "axes[1].fill_between(event_window['time'], 1.0, 1.05, color='black', alpha=0.05, edgecolor='None')\n",
    "#add the title of the event on the top of the event window\n",
    "axes[0].text(0.94, 1.23,'World Cup',fontsize=8)\n",
    "axes[1].text(0.94, 1.0465,'World Cup',fontsize=8)\n",
    "\n",
    "#set axis ranges and labels for the subplots\n",
    "plt.setp(axes[0], xticks=[0.01, 0.32, 0.62, 0.93, 1.17],\n",
    "         xticklabels=dates,\n",
    "         yticks=[1.0, 1.05, 1.10, 1.15,1.20, 1.25])\n",
    "plt.setp(axes[1], xticks=[0.01, 0.32, 0.62, 0.93, 1.17],\n",
    "         xticklabels=dates,\n",
    "         yticks=[1.0, 1.01, 1.02, 1.03,1.04,1.05])\n",
    "\n",
    "#set y axis ranges for the second axis\n",
    "plt.setp(ax2,\n",
    "         yticks=[0.0, 0.1, 0.2, 0.3, 0.4, 0.5, 0.6, 0.7, 0.8, 0.9])\n",
    "plt.setp(ax3,\n",
    "         yticks=[0.0, 0.01, 0.02, 0.03, 0.04, 0.05])\n",
    "\n",
    "axes[0].set_title('(a) Host Cities', fontsize=13)\n",
    "axes[0].set_xlabel(\"Date\")\n",
    "axes[0].set_ylabel(\"Predicted number of daily repression events\")\n",
    "\n",
    "axes[1].set_title('(b) Other Cities', fontsize=13)\n",
    "axes[1].set_xlabel(\"Date\")\n",
    "axes[1].set_ylabel(\"Predicted number of daily repression events\")\n",
    "\n",
    "ax2.set_ylabel(\"Mean repression events\")\n",
    "ax3.set_ylabel(\"Mean repression events\")\n",
    "\n",
    "fig.tight_layout(pad=2.0)\n",
    "\n",
    "#create line types for legend\n",
    "line_solid = Line2D([0,1],[0,1],linestyle='solid', color='black')\n",
    "line_dashed = Line2D([0,1],[0,1],linestyle='dashed', color='black')\n",
    "line_blue = Line2D([0,1],[0,1],linestyle='solid', color='#53EFEF')\n",
    "\n",
    "#create legends for the subplots\n",
    "axes[0].legend(handles=[line_solid, line_blue], labels=['Predicted repression', 'Actual repression'], ncol=2,\n",
    "          loc='center', bbox_to_anchor=(0.5, -0.17))\n",
    "axes[1].legend(handles=[line_dashed, line_blue], labels=['Predicted repression', 'Actual repression'], ncol=2,\n",
    "          loc='center', bbox_to_anchor=(0.5, -0.17))\n",
    "\n",
    "plt.savefig(\"figures/substantive_effects_enriched.png\")\n",
    "\n",
    "plt.show()"
   ]
  },
  {
   "cell_type": "markdown",
   "id": "ab1a9159",
   "metadata": {},
   "source": [
    "### Results Interpretation"
   ]
  },
  {
   "cell_type": "markdown",
   "id": "9659bf58",
   "metadata": {},
   "source": [
    "**Predicted Repression**\n",
    "* as we can see the shape of the repression line is an **inverted U** like the figure 5 and that means that indeed the results of the negative binomial regression are **robust** with the OLS model\n",
    "* the hypothesis are proved because in host cities the repression increases before the event and it drops when the event starts, in the non host cities the regression remains unchanged\n",
    "* we can see that the **range** in the **y axis** is **different** compared to the paper's figure\n",
    "* in paper's figure 5 the authors use the repression in the prediction model\n",
    "* in the OLS model that I created I used the ln(repression) and before plotting the results I removed the ln\n",
    "* if we take a look at the actual data we can see that the repression is **not accurately** converted into the lnrepression. For example repression=2 corresponds to lnrepression=1.098612 when it should be 0.693147.\n",
    "* that can be explained by a **binning process** that the authors might have applied to the data\n",
    "* also the fugire 5 in the paper has a bigger confidence interval because of the overdispersion of the count repression data"
   ]
  },
  {
   "cell_type": "markdown",
   "id": "04523fcc",
   "metadata": {},
   "source": [
    "**Actual Repression**\n",
    "* it is indicated by the 5 days moving average line\n",
    "* the actual repression seems to follow the hypothesis as it has the same behavior with the predicted repression\n",
    "* in the **host** cities the repression is increasing **by 0.1** before the event and when the event starts it decreases by 0.1\n",
    "* in the **non host** cities the repression is increasing and decreasing many times but with a minor change in other words it has a very **small range** from 0.0 to 0.01 so we can say that it remains stable"
   ]
  },
  {
   "cell_type": "markdown",
   "id": "dffb3ade",
   "metadata": {},
   "source": [
    "## Verification of Q3 Results"
   ]
  },
  {
   "cell_type": "markdown",
   "id": "6f23a229",
   "metadata": {},
   "source": [
    "I will try to replicate the Table 1 and the Figure 5 from the paper with the **negative binomial** model in order to **verify** the **methodology** that I am using in Q3 for generating the prediction line and the confidence interval\n",
    "* instead of using the OLS model I will use the negative binomial\n",
    "* the rest of the steps will be the same with Q3"
   ]
  },
  {
   "cell_type": "code",
   "execution_count": 42,
   "id": "fdf30a39",
   "metadata": {},
   "outputs": [],
   "source": [
    "main_data = pd.read_csv('data/main_data.tab', sep='\\t')"
   ]
  },
  {
   "cell_type": "markdown",
   "id": "2b6c4f9e",
   "metadata": {},
   "source": [
    "* I will create the model using the [GLM (Generalized Linear Models)](https://www.statsmodels.org/stable/glm.html) from statsmodel\n",
    "* **GLM** is a regression model that can be used to fit a variety of different types of regression models\n",
    "* It allows the response variable to follow a **distribution** other than the normal distribution\n",
    "* I will use the **families.NegativeBinomial** that will crate an instance of the negative binomial family of probability distributions\n",
    "* Negative binomial is is better than linear models when the data is **discrete** (or count)"
   ]
  },
  {
   "cell_type": "code",
   "execution_count": 43,
   "id": "d7be0692",
   "metadata": {},
   "outputs": [
    {
     "name": "stdout",
     "output_type": "stream",
     "text": [
      "                 Generalized Linear Model Regression Results                  \n",
      "==============================================================================\n",
      "Dep. Variable:             repression   No. Observations:                56394\n",
      "Model:                            GLM   Df Residuals:                    56379\n",
      "Model Family:        NegativeBinomial   Df Model:                           14\n",
      "Link Function:                    Log   Scale:                          1.0000\n",
      "Method:                          IRLS   Log-Likelihood:                -1043.3\n",
      "Date:                Mon, 19 Dec 2022   Deviance:                       1461.7\n",
      "Time:                        21:21:03   Pearson chi2:                 1.05e+05\n",
      "No. Iterations:                     9   Pseudo R-squ. (CS):            0.02750\n",
      "Covariance Type:                  hc1                                         \n",
      "=====================================================================================\n",
      "                        coef    std err          z      P>|z|      [0.025      0.975]\n",
      "-------------------------------------------------------------------------------------\n",
      "const               -13.8316      3.635     -3.805      0.000     -20.956      -6.707\n",
      "hostcitytime          7.4276      1.965      3.780      0.000       3.576      11.279\n",
      "hostcitytime2        -5.8807      1.519     -3.871      0.000      -8.858      -2.903\n",
      "hostcity             -1.3595      0.622     -2.187      0.029      -2.578      -0.141\n",
      "time                 -1.9001      1.182     -1.607      0.108      -4.218       0.417\n",
      "time2                 1.3744      0.938      1.466      0.143      -0.463       3.212\n",
      "lnpop_1970            0.4048      0.248      1.634      0.102      -0.081       0.890\n",
      "vote_frejuli          0.0398      0.014      2.758      0.006       0.012       0.068\n",
      "literacy_avg          1.1967      3.359      0.356      0.722      -5.386       7.779\n",
      "lnrebact1974         -0.0709      0.073     -0.966      0.334      -0.215       0.073\n",
      "lnrepression70_77     0.6725      0.199      3.379      0.001       0.282       1.063\n",
      "zone2                -2.0811      0.447     -4.657      0.000      -2.957      -1.205\n",
      "zone3                -1.0652      0.250     -4.266      0.000      -1.555      -0.576\n",
      "zone4                -0.3824      0.266     -1.435      0.151      -0.905       0.140\n",
      "zone5                -0.9879      0.491     -2.011      0.044      -1.951      -0.025\n",
      "=====================================================================================\n"
     ]
    }
   ],
   "source": [
    "x = main_data[['hostcitytime', 'hostcitytime2', 'hostcity', 'time', 'time2', 'lnpop_1970',\n",
    "          'vote_frejuli', 'literacy_avg', 'lnrebact1974', 'lnrepression70_77', 'zone2', 'zone3', 'zone4', 'zone5']]\n",
    "y = main_data['repression']\n",
    "x = sm.add_constant(x)\n",
    "\n",
    "#fit linear regression model\n",
    "model = sm.GLM(y, x, missing='drop', family=sm.families.NegativeBinomial()).fit(cov_type=\"hc1\")\n",
    "\n",
    "#view model summary\n",
    "print(model.summary())"
   ]
  },
  {
   "cell_type": "markdown",
   "id": "e7481340",
   "metadata": {},
   "source": [
    "As we can see the **coefficients** are not the same as the **table 1** in the paper but they are **close** so I can use them to create an approach of the figure 5"
   ]
  },
  {
   "cell_type": "code",
   "execution_count": 44,
   "id": "d3898cf2",
   "metadata": {},
   "outputs": [],
   "source": [
    "results = pd.DataFrame()\n",
    "results['pre'] = model.predict(x)\n",
    "results=results.dropna()"
   ]
  },
  {
   "cell_type": "code",
   "execution_count": 45,
   "id": "8c6aa2f9",
   "metadata": {},
   "outputs": [],
   "source": [
    "predictions = model.get_prediction(x)\n",
    "ci=predictions.summary_frame(alpha=0.05)\n",
    "ci=ci.dropna()"
   ]
  },
  {
   "cell_type": "code",
   "execution_count": 46,
   "id": "c0860a9c",
   "metadata": {},
   "outputs": [],
   "source": [
    "results = pd.merge(results, main_data, left_index=True, right_index=True)"
   ]
  },
  {
   "cell_type": "code",
   "execution_count": 47,
   "id": "a77dc109",
   "metadata": {},
   "outputs": [],
   "source": [
    "host_1=results[results['hostcity']==1]\n",
    "non_host_1=results[results['hostcity']==0]\n",
    "host_95=pd.merge(ci, host_1, left_index=True, right_index=True)\n",
    "non_host_95=pd.merge(ci, non_host_1, left_index=True, right_index=True)"
   ]
  },
  {
   "cell_type": "code",
   "execution_count": 48,
   "id": "7fff4340",
   "metadata": {},
   "outputs": [],
   "source": [
    "host=host_1.groupby(by='time').mean(numeric_only=True).reset_index()\n",
    "non_host=non_host_1.groupby(by='time').mean(numeric_only=True).reset_index()\n",
    "host_95=host_95.groupby(by='time').mean(numeric_only=True).reset_index()\n",
    "non_host_95=non_host_95.groupby(by='time').mean(numeric_only=True).reset_index()"
   ]
  },
  {
   "cell_type": "code",
   "execution_count": 49,
   "id": "85460500",
   "metadata": {},
   "outputs": [],
   "source": [
    "dates=['March 1',\n",
    "       'April 1',\n",
    "       'May 1',\n",
    "       'June 1',\n",
    "       'June 25'    \n",
    "      ]"
   ]
  },
  {
   "cell_type": "markdown",
   "id": "7ea82159",
   "metadata": {},
   "source": [
    "Now I will plot the figure"
   ]
  },
  {
   "cell_type": "code",
   "execution_count": 50,
   "id": "e5e56603",
   "metadata": {},
   "outputs": [
    {
     "data": {
      "image/png": "[encoded data removed]",
      "text/plain": [
       "<Figure size 1000x500 with 2 Axes>"
      ]
     },
     "metadata": {},
     "output_type": "display_data"
    }
   ],
   "source": [
    "fig, axes = plt.subplots(nrows=1, ncols=2, figsize=(10,5))\n",
    "\n",
    "fig.suptitle('Substantive Effects')\n",
    "\n",
    "#for the first subplot plot the prediction line, the 95% ci and the moving average\n",
    "axes[0].plot(host['time'], host['pre'], color='black', lw=1.5)\n",
    "axes[0].fill_between(host['time'], (host_95['mean_ci_lower']), (host_95['mean_ci_upper']),\n",
    "                     color='black', alpha=0.1, edgecolor='None')\n",
    "\n",
    "#for the second subplot plot the prediction line, the 95% ci and the moving average\n",
    "axes[1].plot(non_host['time'], non_host['pre'], color='black', lw=1.5, linestyle='dashed')\n",
    "axes[1].fill_between(non_host['time'], (non_host_95['mean_ci_lower']), (non_host_95['mean_ci_upper']),\n",
    "                     color='black', alpha=0.1, edgecolor='None')\n",
    "\n",
    "#set axis ranges and labels for the subplots\n",
    "plt.setp(axes[0], xticks=[0.01, 0.32, 0.62, 0.93, 1.17],\n",
    "         xticklabels=dates,\n",
    "         yticks=[0.0, 0.1, 0.2, 0.3, 0.4, 0.5])\n",
    "plt.setp(axes[1], xticks=[0.01, 0.32, 0.62, 0.93, 1.17],\n",
    "         xticklabels=dates,\n",
    "         yticks=[0.0, 0.01, 0.02, 0.03, 0.04, 0.05])\n",
    "\n",
    "axes[0].set_title('(a) Host Cities', fontsize=13)\n",
    "axes[0].set_xlabel(\"Date\")\n",
    "axes[0].set_ylabel(\"Predicted number of daily repression events\")\n",
    "\n",
    "axes[1].set_title('(b) Other Cities', fontsize=13)\n",
    "axes[1].set_xlabel(\"Date\")\n",
    "axes[1].set_ylabel(\"Predicted number of daily repression events\")\n",
    "\n",
    "fig.tight_layout(pad=2.0)\n",
    "\n",
    "plt.show()"
   ]
  },
  {
   "cell_type": "markdown",
   "id": "52b21d66",
   "metadata": {},
   "source": [
    "As we can see the figures that the GLM model produced are very **similar** to the ones in the **figure 5** of the paper. Thus the **methodoly** that I used to create the prediction line and the confidence interval in Q3 is **correct**."
   ]
  },
  {
   "cell_type": "markdown",
   "id": "6463e46f",
   "metadata": {},
   "source": [
    "## Q4: Robustness Check Using a Dichotomous Indicator of Repression"
   ]
  },
  {
   "cell_type": "markdown",
   "id": "dc599df2",
   "metadata": {},
   "source": [
    "Replication of the **Table SI.4.5** of the Supporting Information"
   ]
  },
  {
   "cell_type": "markdown",
   "id": "c9de851e",
   "metadata": {},
   "source": [
    "To check whether the results are robust to potential reporting biases in our dependent variable the authors run logistic regressions using a binary outcome variable for regression\n",
    "* They dichotomize the count dependent variable of repression by re-coding all positive count values to 1, and 0 otherwise\n",
    "* Then they fit logistic regressions and linear probability models (OLS)"
   ]
  },
  {
   "cell_type": "markdown",
   "id": "33fed99e",
   "metadata": {},
   "source": [
    "Read the [main_data file](https://dataverse.harvard.edu/file.xhtml?fileId=6358368&version=1.0) from the [replication package](https://dataverse.harvard.edu/dataset.xhtml?persistentId=doi:10.7910/DVN/RJY34I)"
   ]
  },
  {
   "cell_type": "code",
   "execution_count": 51,
   "id": "1b39a0ab",
   "metadata": {},
   "outputs": [],
   "source": [
    "main_data = pd.read_csv('data/main_data.tab', sep='\\t')"
   ]
  },
  {
   "cell_type": "markdown",
   "id": "b6fa7886",
   "metadata": {},
   "source": [
    "### Logit Model 1"
   ]
  },
  {
   "cell_type": "markdown",
   "id": "2f65e9b8",
   "metadata": {},
   "source": [
    "Run the logit model without the **controls** and **zone FE** variables\n",
    "* We use **logistic regression** to predict the probability of the **categorical** dependent variable **dumrepression** based on the other independent variables\n",
    "* **dumrepression** has value **1** for all positive count repression events and value **0** for zero events"
   ]
  },
  {
   "cell_type": "code",
   "execution_count": 52,
   "id": "1b5ab7de",
   "metadata": {},
   "outputs": [
    {
     "name": "stdout",
     "output_type": "stream",
     "text": [
      "Optimization terminated successfully.\n",
      "         Current function value: 0.019190\n",
      "         Iterations 10\n",
      "                           Logit Regression Results                           \n",
      "==============================================================================\n",
      "Dep. Variable:          dumrepression   No. Observations:                58107\n",
      "Model:                          Logit   Df Residuals:                    58101\n",
      "Method:                           MLE   Df Model:                            5\n",
      "Date:                Mon, 19 Dec 2022   Pseudo R-squ.:                  0.1533\n",
      "Time:                        21:21:05   Log-Likelihood:                -1115.1\n",
      "converged:                       True   LL-Null:                       -1317.0\n",
      "Covariance Type:                  hc1   LLR p-value:                 4.467e-85\n",
      "=================================================================================\n",
      "                    coef    std err          z      P>|z|      [0.025      0.975]\n",
      "---------------------------------------------------------------------------------\n",
      "const            -5.8507      0.267    -21.934      0.000      -6.373      -5.328\n",
      "hostcitytime      4.1403      2.081      1.990      0.047       0.062       8.219\n",
      "hostcitytime2    -3.2143      1.600     -2.009      0.045      -6.350      -0.078\n",
      "hostcity          3.1376      0.576      5.448      0.000       2.009       4.266\n",
      "time             -0.8733      1.067     -0.818      0.413      -2.966       1.219\n",
      "time2             0.5355      0.864      0.620      0.535      -1.157       2.228\n",
      "=================================================================================\n"
     ]
    }
   ],
   "source": [
    "x = main_data[['hostcitytime', 'hostcitytime2', 'hostcity', 'time', 'time2']]\n",
    "y = main_data['dumrepression']\n",
    "x = sm.add_constant(x)\n",
    "\n",
    "#fit linear regression model\n",
    "model1 = sm.Logit(y, x, missing='drop').fit(cov_type=\"hc1\")\n",
    "\n",
    "#view model summary\n",
    "print(model1.summary())"
   ]
  },
  {
   "cell_type": "markdown",
   "id": "b89b88ba",
   "metadata": {},
   "source": [
    "Save the Pseudo R-square to use it in the results summary"
   ]
  },
  {
   "cell_type": "code",
   "execution_count": 53,
   "id": "a007851f",
   "metadata": {},
   "outputs": [
    {
     "data": {
      "text/plain": [
       "0.15"
      ]
     },
     "execution_count": 53,
     "metadata": {},
     "output_type": "execute_result"
    }
   ],
   "source": [
    "model1_pseudo_r=float(model1.summary2().tables[0][3][0])\n",
    "model1_pseudo_r=round(model1_pseudo_r, 2)\n",
    "model1_pseudo_r"
   ]
  },
  {
   "cell_type": "markdown",
   "id": "ab282244",
   "metadata": {},
   "source": [
    "Calculate the Wald test statistic value\n",
    "* The **Wald test (Wald Chi-Squared Test)** is a way to find out if explanatory variables in a model are **significant** and it can be used for binary variables\n",
    "* The test allows us to determine whether we need to **exclude** variables from the model\n",
    "* The p value is smaller than 0.05 and that means that the coefficients of the explanatory variables from logistic model are significantly different from zero and we should **keep** them in the model"
   ]
  },
  {
   "cell_type": "code",
   "execution_count": 54,
   "id": "791558c3",
   "metadata": {},
   "outputs": [
    {
     "name": "stdout",
     "output_type": "stream",
     "text": [
      "<Wald test (chi2): statistic=[[712.20480345]], p-value=1.12783656422425e-151, df_denom=5>\n"
     ]
    }
   ],
   "source": [
    "A = np.identity(len(model1.params))\n",
    "A = A[1:,:]\n",
    "wald1=model1.wald_test(A, scalar= False)\n",
    "print(wald1)"
   ]
  },
  {
   "cell_type": "markdown",
   "id": "5f9307f4",
   "metadata": {},
   "source": [
    "### Logit Model 2"
   ]
  },
  {
   "cell_type": "markdown",
   "id": "6b237dac",
   "metadata": {},
   "source": [
    "Run the **logit** model with the **controls** variables"
   ]
  },
  {
   "cell_type": "code",
   "execution_count": 55,
   "id": "60925080",
   "metadata": {},
   "outputs": [
    {
     "name": "stdout",
     "output_type": "stream",
     "text": [
      "Optimization terminated successfully.\n",
      "         Current function value: 0.013826\n",
      "         Iterations 13\n",
      "                           Logit Regression Results                           \n",
      "==============================================================================\n",
      "Dep. Variable:          dumrepression   No. Observations:                56394\n",
      "Model:                          Logit   Df Residuals:                    56383\n",
      "Method:                           MLE   Df Model:                           10\n",
      "Date:                Mon, 19 Dec 2022   Pseudo R-squ.:                  0.4027\n",
      "Time:                        21:21:05   Log-Likelihood:                -779.73\n",
      "converged:                       True   LL-Null:                       -1305.4\n",
      "Covariance Type:                  hc1   LLR p-value:                1.601e-219\n",
      "=====================================================================================\n",
      "                        coef    std err          z      P>|z|      [0.025      0.975]\n",
      "-------------------------------------------------------------------------------------\n",
      "const               -17.2479      3.181     -5.422      0.000     -23.482     -11.013\n",
      "hostcitytime          4.8685      2.119      2.297      0.022       0.715       9.023\n",
      "hostcitytime2        -3.7977      1.647     -2.305      0.021      -7.026      -0.569\n",
      "hostcity             -1.6274      0.628     -2.591      0.010      -2.859      -0.396\n",
      "time                 -0.9927      1.088     -0.912      0.362      -3.126       1.140\n",
      "time2                 0.6181      0.882      0.701      0.484      -1.111       2.347\n",
      "lnpop_1970            0.8683      0.224      3.875      0.000       0.429       1.308\n",
      "vote_frejuli          0.0061      0.014      0.450      0.653      -0.020       0.033\n",
      "literacy_avg         -0.2055      3.172     -0.065      0.948      -6.422       6.011\n",
      "lnrebact1974          0.0486      0.078      0.626      0.531      -0.104       0.201\n",
      "lnrepression70_77     0.5776      0.141      4.100      0.000       0.301       0.854\n",
      "=====================================================================================\n",
      "\n",
      "Possibly complete quasi-separation: A fraction 0.33 of observations can be\n",
      "perfectly predicted. This might indicate that there is complete\n",
      "quasi-separation. In this case some parameters will not be identified.\n"
     ]
    }
   ],
   "source": [
    "x = main_data[['hostcitytime', 'hostcitytime2', 'hostcity', 'time', 'time2', 'lnpop_1970',\n",
    "          'vote_frejuli', 'literacy_avg', 'lnrebact1974', 'lnrepression70_77']]\n",
    "y = main_data['dumrepression']\n",
    "x = sm.add_constant(x)\n",
    "\n",
    "#fit linear regression model\n",
    "model2 = sm.Logit(y, x, missing='drop').fit(cov_type=\"hc1\")\n",
    "\n",
    "#view model summary\n",
    "print(model2.summary())"
   ]
  },
  {
   "cell_type": "code",
   "execution_count": 56,
   "id": "7a197871",
   "metadata": {},
   "outputs": [
    {
     "data": {
      "text/plain": [
       "0.4"
      ]
     },
     "execution_count": 56,
     "metadata": {},
     "output_type": "execute_result"
    }
   ],
   "source": [
    "model2_pseudo_r=float(model2.summary2().tables[0][3][0])\n",
    "model2_pseudo_r=round(model2_pseudo_r, 2)\n",
    "model2_pseudo_r"
   ]
  },
  {
   "cell_type": "code",
   "execution_count": 57,
   "id": "3ff07877",
   "metadata": {},
   "outputs": [
    {
     "name": "stdout",
     "output_type": "stream",
     "text": [
      "<Wald test (chi2): statistic=[[637.2237871]], p-value=1.848923162096679e-130, df_denom=10>\n"
     ]
    }
   ],
   "source": [
    "A = np.identity(len(model2.params))\n",
    "A = A[1:,:]\n",
    "wald2=model2.wald_test(A, scalar= False)\n",
    "print(wald2)"
   ]
  },
  {
   "cell_type": "markdown",
   "id": "03f0cde8",
   "metadata": {},
   "source": [
    "### Logit Model 3"
   ]
  },
  {
   "cell_type": "markdown",
   "id": "642cccc5",
   "metadata": {},
   "source": [
    "Run the **logit** model with the **controls** and **zone FE** variables"
   ]
  },
  {
   "cell_type": "code",
   "execution_count": 58,
   "id": "018dac92",
   "metadata": {},
   "outputs": [
    {
     "name": "stdout",
     "output_type": "stream",
     "text": [
      "Optimization terminated successfully.\n",
      "         Current function value: 0.013570\n",
      "         Iterations 13\n",
      "                           Logit Regression Results                           \n",
      "==============================================================================\n",
      "Dep. Variable:          dumrepression   No. Observations:                56394\n",
      "Model:                          Logit   Df Residuals:                    56379\n",
      "Method:                           MLE   Df Model:                           14\n",
      "Date:                Mon, 19 Dec 2022   Pseudo R-squ.:                  0.4138\n",
      "Time:                        21:21:06   Log-Likelihood:                -765.25\n",
      "converged:                       True   LL-Null:                       -1305.4\n",
      "Covariance Type:                  hc1   LLR p-value:                9.017e-222\n",
      "=====================================================================================\n",
      "                        coef    std err          z      P>|z|      [0.025      0.975]\n",
      "-------------------------------------------------------------------------------------\n",
      "const               -15.4018      3.161     -4.873      0.000     -21.597      -9.207\n",
      "hostcitytime          5.3781      2.267      2.373      0.018       0.935       9.821\n",
      "hostcitytime2        -4.2173      1.774     -2.378      0.017      -7.694      -0.741\n",
      "hostcity             -1.3273      0.690     -1.924      0.054      -2.679       0.025\n",
      "time                 -0.9924      1.086     -0.914      0.361      -3.121       1.136\n",
      "time2                 0.6179      0.880      0.702      0.483      -1.107       2.343\n",
      "lnpop_1970            0.7459      0.215      3.470      0.001       0.325       1.167\n",
      "vote_frejuli          0.0200      0.015      1.323      0.186      -0.010       0.050\n",
      "literacy_avg         -0.1268      3.041     -0.042      0.967      -6.088       5.834\n",
      "lnrebact1974         -0.1315      0.080     -1.635      0.102      -0.289       0.026\n",
      "lnrepression70_77     0.5452      0.155      3.519      0.000       0.242       0.849\n",
      "zone2                -1.9991      0.450     -4.445      0.000      -2.881      -1.118\n",
      "zone3                -0.9832      0.272     -3.610      0.000      -1.517      -0.449\n",
      "zone4                -0.1626      0.260     -0.625      0.532      -0.673       0.347\n",
      "zone5                -0.7864      0.485     -1.623      0.105      -1.736       0.163\n",
      "=====================================================================================\n",
      "\n",
      "Possibly complete quasi-separation: A fraction 0.24 of observations can be\n",
      "perfectly predicted. This might indicate that there is complete\n",
      "quasi-separation. In this case some parameters will not be identified.\n"
     ]
    }
   ],
   "source": [
    "x = main_data[['hostcitytime', 'hostcitytime2', 'hostcity', 'time', 'time2', 'lnpop_1970',\n",
    "          'vote_frejuli', 'literacy_avg', 'lnrebact1974', 'lnrepression70_77', 'zone2', 'zone3', 'zone4', 'zone5']]\n",
    "y = main_data['dumrepression']\n",
    "x = sm.add_constant(x)\n",
    "\n",
    "#fit linear regression model\n",
    "model3 = sm.Logit(y, x, missing='drop').fit(cov_type=\"hc1\")\n",
    "\n",
    "#view model summary\n",
    "print(model3.summary())"
   ]
  },
  {
   "cell_type": "code",
   "execution_count": 59,
   "id": "a905017a",
   "metadata": {},
   "outputs": [
    {
     "data": {
      "text/plain": [
       "0.41"
      ]
     },
     "execution_count": 59,
     "metadata": {},
     "output_type": "execute_result"
    }
   ],
   "source": [
    "model3_pseudo_r=float(model3.summary2().tables[0][3][0])\n",
    "model3_pseudo_r=round(model3_pseudo_r, 2)\n",
    "model3_pseudo_r"
   ]
  },
  {
   "cell_type": "code",
   "execution_count": 60,
   "id": "39c0754f",
   "metadata": {},
   "outputs": [
    {
     "name": "stdout",
     "output_type": "stream",
     "text": [
      "<Wald test (chi2): statistic=[[791.3102331]], p-value=7.986448507621398e-160, df_denom=14>\n"
     ]
    }
   ],
   "source": [
    "A = np.identity(len(model3.params))\n",
    "A = A[1:,:]\n",
    "wald3=model3.wald_test(A, scalar= False)\n",
    "print(wald3)"
   ]
  },
  {
   "cell_type": "markdown",
   "id": "fd85812e",
   "metadata": {},
   "source": [
    "### OLS Model 4"
   ]
  },
  {
   "cell_type": "markdown",
   "id": "d1f2c763",
   "metadata": {},
   "source": [
    "Run the first linear regression model **without** the **control** and **zone FE** variables"
   ]
  },
  {
   "cell_type": "code",
   "execution_count": 61,
   "id": "87df000f",
   "metadata": {},
   "outputs": [
    {
     "name": "stdout",
     "output_type": "stream",
     "text": [
      "                            OLS Regression Results                            \n",
      "==============================================================================\n",
      "Dep. Variable:          dumrepression   R-squared:                       0.043\n",
      "Model:                            OLS   Adj. R-squared:                  0.043\n",
      "Method:                 Least Squares   F-statistic:                     15.66\n",
      "Date:                Mon, 19 Dec 2022   Prob (F-statistic):           1.95e-15\n",
      "Time:                        21:21:06   Log-Likelihood:                 84143.\n",
      "No. Observations:               58107   AIC:                        -1.683e+05\n",
      "Df Residuals:                   58101   BIC:                        -1.682e+05\n",
      "Df Model:                           5                                         \n",
      "Covariance Type:                  hc1                                         \n",
      "=================================================================================\n",
      "                    coef    std err          z      P>|z|      [0.025      0.975]\n",
      "---------------------------------------------------------------------------------\n",
      "const             0.0028      0.001      4.137      0.000       0.001       0.004\n",
      "hostcitytime      0.3184      0.158      2.017      0.044       0.009       0.628\n",
      "hostcitytime2    -0.2616      0.121     -2.160      0.031      -0.499      -0.024\n",
      "hostcity          0.0505      0.041      1.247      0.213      -0.029       0.130\n",
      "time             -0.0021      0.003     -0.808      0.419      -0.007       0.003\n",
      "time2             0.0013      0.002      0.637      0.524      -0.003       0.005\n",
      "==============================================================================\n",
      "Omnibus:                   114009.579   Durbin-Watson:                   1.702\n",
      "Prob(Omnibus):                  0.000   Jarque-Bera (JB):        181595523.133\n",
      "Skew:                          16.100   Prob(JB):                         0.00\n",
      "Kurtosis:                     274.970   Cond. No.                         201.\n",
      "==============================================================================\n",
      "\n",
      "Notes:\n",
      "[1] Standard Errors are heteroscedasticity robust (HC1)\n"
     ]
    }
   ],
   "source": [
    "x = main_data[['hostcitytime', 'hostcitytime2', 'hostcity', 'time', 'time2']]\n",
    "y = main_data['dumrepression']\n",
    "x = sm.add_constant(x)\n",
    "\n",
    "#fit linear regression model\n",
    "model4 = sm.OLS(y, x, missing='drop').fit(cov_type=\"hc1\")\n",
    "\n",
    "#view model summary\n",
    "print(model4.summary())"
   ]
  },
  {
   "cell_type": "markdown",
   "id": "b0441332",
   "metadata": {},
   "source": [
    "### OLS Model 5"
   ]
  },
  {
   "cell_type": "markdown",
   "id": "20ddd01b",
   "metadata": {},
   "source": [
    "Run the first linear regression model **with** the **control** variables"
   ]
  },
  {
   "cell_type": "code",
   "execution_count": 62,
   "id": "e1d0765b",
   "metadata": {},
   "outputs": [
    {
     "name": "stdout",
     "output_type": "stream",
     "text": [
      "                            OLS Regression Results                            \n",
      "==============================================================================\n",
      "Dep. Variable:          dumrepression   R-squared:                       0.058\n",
      "Model:                            OLS   Adj. R-squared:                  0.058\n",
      "Method:                 Least Squares   F-statistic:                     19.78\n",
      "Date:                Mon, 19 Dec 2022   Prob (F-statistic):           5.57e-37\n",
      "Time:                        21:21:06   Log-Likelihood:                 81421.\n",
      "No. Observations:               56394   AIC:                        -1.628e+05\n",
      "Df Residuals:                   56383   BIC:                        -1.627e+05\n",
      "Df Model:                          10                                         \n",
      "Covariance Type:                  hc1                                         \n",
      "=====================================================================================\n",
      "                        coef    std err          z      P>|z|      [0.025      0.975]\n",
      "-------------------------------------------------------------------------------------\n",
      "const                -0.0053      0.002     -2.406      0.016      -0.010      -0.001\n",
      "hostcitytime          0.3186      0.156      2.036      0.042       0.012       0.625\n",
      "hostcitytime2        -0.2617      0.120     -2.180      0.029      -0.497      -0.026\n",
      "hostcity              0.0219      0.040      0.547      0.584      -0.057       0.100\n",
      "time                 -0.0023      0.003     -0.886      0.376      -0.007       0.003\n",
      "time2                 0.0014      0.002      0.707      0.480      -0.003       0.005\n",
      "lnpop_1970            0.0012      0.000      5.808      0.000       0.001       0.002\n",
      "vote_frejuli      -4.456e-05   1.96e-05     -2.275      0.023    -8.3e-05   -6.17e-06\n",
      "literacy_avg         -0.0066      0.001     -5.258      0.000      -0.009      -0.004\n",
      "lnrebact1974         -0.0002      0.000     -1.260      0.208      -0.000    9.86e-05\n",
      "lnrepression70_77     0.0048      0.000     11.305      0.000       0.004       0.006\n",
      "==============================================================================\n",
      "Omnibus:                   108642.238   Durbin-Watson:                   1.727\n",
      "Prob(Omnibus):                  0.000   Jarque-Bera (JB):        155981025.969\n",
      "Skew:                          15.483   Prob(JB):                         0.00\n",
      "Kurtosis:                     258.779   Cond. No.                     9.29e+03\n",
      "==============================================================================\n",
      "\n",
      "Notes:\n",
      "[1] Standard Errors are heteroscedasticity robust (HC1)\n",
      "[2] The condition number is large, 9.29e+03. This might indicate that there are\n",
      "strong multicollinearity or other numerical problems.\n"
     ]
    }
   ],
   "source": [
    "x = main_data[['hostcitytime', 'hostcitytime2', 'hostcity', 'time', 'time2', 'lnpop_1970',\n",
    "          'vote_frejuli', 'literacy_avg', 'lnrebact1974', 'lnrepression70_77']]\n",
    "y = main_data['dumrepression']\n",
    "x = sm.add_constant(x)\n",
    "\n",
    "#fit linear regression model\n",
    "model5 = sm.OLS(y, x, missing='drop').fit(cov_type=\"hc1\")\n",
    "\n",
    "#view model summary\n",
    "print(model5.summary())"
   ]
  },
  {
   "cell_type": "markdown",
   "id": "8368b839",
   "metadata": {},
   "source": [
    "### OLS Model 6"
   ]
  },
  {
   "cell_type": "markdown",
   "id": "866dbb9b",
   "metadata": {},
   "source": [
    "Run model 3 with the **control** and **zone FE** variables"
   ]
  },
  {
   "cell_type": "code",
   "execution_count": 63,
   "id": "a518f833",
   "metadata": {},
   "outputs": [
    {
     "name": "stdout",
     "output_type": "stream",
     "text": [
      "                            OLS Regression Results                            \n",
      "==============================================================================\n",
      "Dep. Variable:          dumrepression   R-squared:                       0.063\n",
      "Model:                            OLS   Adj. R-squared:                  0.063\n",
      "Method:                 Least Squares   F-statistic:                     14.45\n",
      "Date:                Mon, 19 Dec 2022   Prob (F-statistic):           2.15e-35\n",
      "Time:                        21:21:06   Log-Likelihood:                 81565.\n",
      "No. Observations:               56394   AIC:                        -1.631e+05\n",
      "Df Residuals:                   56379   BIC:                        -1.630e+05\n",
      "Df Model:                          14                                         \n",
      "Covariance Type:                  hc1                                         \n",
      "=====================================================================================\n",
      "                        coef    std err          z      P>|z|      [0.025      0.975]\n",
      "-------------------------------------------------------------------------------------\n",
      "const                -0.0050      0.003     -1.880      0.060      -0.010       0.000\n",
      "hostcitytime          0.3186      0.155      2.055      0.040       0.015       0.623\n",
      "hostcitytime2        -0.2617      0.119     -2.199      0.028      -0.495      -0.028\n",
      "hostcity              0.0219      0.040      0.552      0.581      -0.056       0.100\n",
      "time                 -0.0023      0.003     -0.885      0.376      -0.007       0.003\n",
      "time2                 0.0014      0.002      0.707      0.480      -0.003       0.005\n",
      "lnpop_1970            0.0038      0.000      9.167      0.000       0.003       0.005\n",
      "vote_frejuli      -1.441e-06   2.68e-05     -0.054      0.957    -5.4e-05    5.11e-05\n",
      "literacy_avg         -0.0266      0.003     -9.846      0.000      -0.032      -0.021\n",
      "lnrebact1974         -0.0016      0.000     -7.784      0.000      -0.002      -0.001\n",
      "lnrepression70_77     0.0037      0.000      8.776      0.000       0.003       0.005\n",
      "zone2                -0.0165      0.002    -10.425      0.000      -0.020      -0.013\n",
      "zone3                -0.0129      0.001     -9.585      0.000      -0.016      -0.010\n",
      "zone4                -0.0071      0.005     -1.509      0.131      -0.016       0.002\n",
      "zone5                -0.0102      0.001     -9.862      0.000      -0.012      -0.008\n",
      "==============================================================================\n",
      "Omnibus:                   108296.025   Durbin-Watson:                   1.736\n",
      "Prob(Omnibus):                  0.000   Jarque-Bera (JB):        153317250.667\n",
      "Skew:                          15.376   Prob(JB):                         0.00\n",
      "Kurtosis:                     256.580   Cond. No.                     9.29e+03\n",
      "==============================================================================\n",
      "\n",
      "Notes:\n",
      "[1] Standard Errors are heteroscedasticity robust (HC1)\n",
      "[2] The condition number is large, 9.29e+03. This might indicate that there are\n",
      "strong multicollinearity or other numerical problems.\n"
     ]
    }
   ],
   "source": [
    "x = main_data[['hostcitytime', 'hostcitytime2', 'hostcity', 'time', 'time2', 'lnpop_1970',\n",
    "          'vote_frejuli', 'literacy_avg', 'lnrebact1974', 'lnrepression70_77', 'zone2', 'zone3', 'zone4', 'zone5']]\n",
    "y = main_data['dumrepression']\n",
    "x = sm.add_constant(x)\n",
    "\n",
    "#fit linear regression model\n",
    "model6 = sm.OLS(y, x, missing='drop').fit(cov_type=\"hc1\")\n",
    "\n",
    "#view model summary\n",
    "print(model6.summary())"
   ]
  },
  {
   "cell_type": "markdown",
   "id": "c9711a67",
   "metadata": {},
   "source": [
    "### Summarize models and interpret the results"
   ]
  },
  {
   "cell_type": "markdown",
   "id": "f83237a0",
   "metadata": {},
   "source": [
    "Use **stargazer** to summarize the six models in the same table"
   ]
  },
  {
   "cell_type": "code",
   "execution_count": 64,
   "id": "58596161",
   "metadata": {},
   "outputs": [
    {
     "data": {
      "text/html": [
       "Regression results for binary variable of repression<br><table style=\"text-align:center\"><tr><td colspan=\"7\" style=\"border-bottom: 1px solid black\"></td></tr><tr><td style=\"text-align:left\"></td><td colspan=\"6\"><em>Dependent variable:dumrepression</em></td></tr><tr><td style=\"text-align:left\"></td><tr><td></td><td colspan=\"3\">Logit</td><td colspan=\"3\">OLS</td></tr><tr><td style=\"text-align:left\"></td><td>(1)</td><td>(2)</td><td>(3)</td><td>(4)</td><td>(5)</td><td>(6)</td></tr><tr><td colspan=\"7\" style=\"border-bottom: 1px solid black\"></td></tr><tr><td style=\"text-align:left\">hostcitytime</td><td>4.140<sup>*</sup></td><td>4.869<sup>*</sup></td><td>5.378<sup>*</sup></td><td>0.318<sup>*</sup></td><td>0.319<sup>*</sup></td><td>0.319<sup>*</sup></td></tr><tr><td style=\"text-align:left\"></td><td>(2.081)</td><td>(2.119)</td><td>(2.267)</td><td>(0.158)</td><td>(0.156)</td><td>(0.155)</td></tr><tr><td style=\"text-align:left\">hostcitytime2</td><td>-3.214<sup>*</sup></td><td>-3.798<sup>*</sup></td><td>-4.217<sup>*</sup></td><td>-0.262<sup>*</sup></td><td>-0.262<sup>*</sup></td><td>-0.262<sup>*</sup></td></tr><tr><td style=\"text-align:left\"></td><td>(1.600)</td><td>(1.647)</td><td>(1.774)</td><td>(0.121)</td><td>(0.120)</td><td>(0.119)</td></tr><tr><td style=\"text-align:left\">hostcity</td><td>3.138<sup>***</sup></td><td>-1.627<sup>**</sup></td><td>-1.327<sup></sup></td><td>0.051<sup></sup></td><td>0.022<sup></sup></td><td>0.022<sup></sup></td></tr><tr><td style=\"text-align:left\"></td><td>(0.576)</td><td>(0.628)</td><td>(0.690)</td><td>(0.041)</td><td>(0.040)</td><td>(0.040)</td></tr><tr><td style=\"text-align:left\">time</td><td>-0.873<sup></sup></td><td>-0.993<sup></sup></td><td>-0.992<sup></sup></td><td>-0.002<sup></sup></td><td>-0.002<sup></sup></td><td>-0.002<sup></sup></td></tr><tr><td style=\"text-align:left\"></td><td>(1.067)</td><td>(1.088)</td><td>(1.086)</td><td>(0.003)</td><td>(0.003)</td><td>(0.003)</td></tr><tr><td style=\"text-align:left\">time2</td><td>0.535<sup></sup></td><td>0.618<sup></sup></td><td>0.618<sup></sup></td><td>0.001<sup></sup></td><td>0.001<sup></sup></td><td>0.001<sup></sup></td></tr><tr><td style=\"text-align:left\"></td><td>(0.864)</td><td>(0.882)</td><td>(0.880)</td><td>(0.002)</td><td>(0.002)</td><td>(0.002)</td></tr><tr><td style=\"text-align:left\">const</td><td>-5.851<sup>***</sup></td><td>-17.248<sup>***</sup></td><td>-15.402<sup>***</sup></td><td>0.003<sup>***</sup></td><td>-0.005<sup>*</sup></td><td>-0.005<sup></sup></td></tr><tr><td style=\"text-align:left\"></td><td>(0.267)</td><td>(3.181)</td><td>(3.161)</td><td>(0.001)</td><td>(0.002)</td><td>(0.003)</td></tr><tr><td style=\"text-align: left\">Controls</td><td>&#x2718</td><td>&#x2714</td><td>&#x2714</td><td>&#x2718</td><td>&#x2714</td><td>&#x2714</td></tr><tr><td style=\"text-align: left\">Zone FE</td><td>&#x2718</td><td>&#x2718</td><td>&#x2714</td><td>&#x2718</td><td>&#x2718</td><td>&#x2714</td></tr><td colspan=\"7\" style=\"border-bottom: 1px solid black\"></td></tr><tr><td style=\"text-align: left\">Wald $χ^2$</td><td>712.2</td><td>637.22</td><td>791.31</td><td></td><td></td><td></td></tr><tr><td style=\"text-align: left\">Pseudo $R^2$</td><td>0.15</td><td>0.4</td><td>0.41</td><td></td><td></td><td></td></tr><tr><td style=\"text-align: left\">Observations</td><td>58,107</td><td>56,394</td><td>56,394</td><td>58,107</td><td>56,394</td><td>56,394</td></tr><tr><td style=\"text-align: left\">R<sup>2</sup></td><td></td><td></td><td></td><td>0.043</td><td>0.058</td><td>0.063</td></tr><tr><td style=\"text-align: left\">F Statistic</td><td><sup></sup></td><td><sup></sup></td><td><sup></sup></td><td>15.661<sup>***</sup></td><td>19.775<sup>***</sup></td><td>14.452<sup>***</sup></td></tr><tr><td colspan=\"7\" style=\"border-bottom: 1px solid black\"></td></tr><tr><td style=\"text-align: left\">Note:</td>\n",
       " <td colspan=\"6\" style=\"text-align: right\">\n",
       "  <sup>*</sup>p&lt;0.05;\n",
       "  <sup>**</sup>p&lt;0.01;\n",
       "  <sup>***</sup>p&lt;0.001\n",
       " </td></tr><tr><td></td><td colspan=\"6\" style=\"text-align: right\">Values are coefficients with robust standard errors in parentheses</td></tr></table>"
      ],
      "text/plain": [
       "<IPython.core.display.HTML object>"
      ]
     },
     "execution_count": 64,
     "metadata": {},
     "output_type": "execute_result"
    }
   ],
   "source": [
    "stargazer = Stargazer([model1, model2, model3, model4, model5, model6])\n",
    "\n",
    "stargazer.title('Regression results for binary variable of repression')\n",
    "\n",
    "#change covariates order\n",
    "stargazer.covariate_order(['hostcitytime', 'hostcitytime2', 'hostcity', 'time', 'time2', 'const'])\n",
    "\n",
    "stargazer.show_degrees_of_freedom(False)\n",
    "\n",
    "#add control and zone FE variable notes\n",
    "stargazer.add_line('Controls', ['&#x2718', '&#x2714', '&#x2714', '&#x2718', '&#x2714', '&#x2714'])\n",
    "stargazer.add_line('Zone FE', ['&#x2718', '&#x2718', '&#x2714', '&#x2718', '&#x2718', '&#x2714'])\n",
    "\n",
    "#add walt test row\n",
    "stargazer.add_line('Wald $χ^2$', [wald1.statistic[0][0].round(2), wald2.statistic[0][0].round(2),\n",
    "                                  wald3.statistic[0][0].round(2), '', '', ''], location='ft')\n",
    "#add pseudo r square row\n",
    "stargazer.add_line('Pseudo $R^2$', [model1_pseudo_r, model2_pseudo_r, model3_pseudo_r, '', '', ''], location='ft')\n",
    "\n",
    "#set significance levels\n",
    "stargazer.significance_levels([0.001, 0.01, 0.05])\n",
    "\n",
    "stargazer.add_custom_notes(['Values are coefficients with robust standard errors in parentheses'])\n",
    "\n",
    "stargazer.show_residual_std_err= False\n",
    "stargazer.show_adj_r2= False\n",
    "\n",
    "stargazer.custom_columns(['Logit','OLS'], [3,3])\n",
    "\n",
    "#show summary in html format\n",
    "HTML(stargazer.render_html())"
   ]
  },
  {
   "cell_type": "markdown",
   "id": "50c05069",
   "metadata": {},
   "source": [
    "* As we can see in the **logit model** the coefficient of the **hostcitytime** is statistically **significant** and **positive** and the coefficient of the **hostcitytime2** is statistically **significant** and **negative** thus the hypothesis 1 & 2 is supported\n",
    "* We can see that the results are **not sensitive** to the choice of the repression **indicator** \n",
    "* Thus we can conclude that the results are **robust** to potential **reporting bias** (for example exaggeration of the repression events)\n",
    "* The **OLS** models results where explained in the **Q2**"
   ]
  },
  {
   "cell_type": "markdown",
   "id": "c6c121ce",
   "metadata": {},
   "source": [
    "## Q5: Robustness Check Using Matched Samples"
   ]
  },
  {
   "cell_type": "markdown",
   "id": "9b2c91ee",
   "metadata": {},
   "source": [
    "Replication of **columns 1-3 of table SI.4.7** of the Supporting Information and recreation of **Figure 6** of the paper using **OLS** model\n",
    "* Another robustness check that the authors have undertaken is to run regression analyses on **matched samples**. They have created subsets of the data that pair similar departments with and without host cities. The matching has been carried out both **manually**, by using the **range** of **population size**, and algorithmically with coarsened exact matching.\n",
    "* I will replicate only the manual matching analysis\n",
    "* The results of the **OLS model 3** with manual matching will be used to replicate **figure 6** that shows the predicted numbers of daily repression events in departments with host cities and in other departments"
   ]
  },
  {
   "cell_type": "markdown",
   "id": "73fff926",
   "metadata": {},
   "source": [
    "Read the [main_data file](https://dataverse.harvard.edu/file.xhtml?fileId=6358368&version=1.0) from the [replication package](https://dataverse.harvard.edu/dataset.xhtml?persistentId=doi:10.7910/DVN/RJY34I)"
   ]
  },
  {
   "cell_type": "code",
   "execution_count": 65,
   "id": "2fc1d8cf",
   "metadata": {},
   "outputs": [],
   "source": [
    "main_data = pd.read_csv('data/main_data.tab', sep='\\t')"
   ]
  },
  {
   "cell_type": "markdown",
   "id": "57245c68",
   "metadata": {},
   "source": [
    "Keep the matched simple data for this analysis"
   ]
  },
  {
   "cell_type": "code",
   "execution_count": 66,
   "id": "e8439d55",
   "metadata": {},
   "outputs": [],
   "source": [
    "matched_simple=main_data[main_data['matched_simple']==1]"
   ]
  },
  {
   "cell_type": "markdown",
   "id": "74e0c4ee",
   "metadata": {},
   "source": [
    "### OLS Model 1 Matched"
   ]
  },
  {
   "cell_type": "markdown",
   "id": "fe71e23e",
   "metadata": {},
   "source": [
    "Run the first linear regression model **without** the **control** and **zone FE** variables for the matched data"
   ]
  },
  {
   "cell_type": "code",
   "execution_count": 67,
   "id": "c428597f",
   "metadata": {},
   "outputs": [
    {
     "name": "stdout",
     "output_type": "stream",
     "text": [
      "                            OLS Regression Results                            \n",
      "==============================================================================\n",
      "Dep. Variable:           lnrepression   R-squared:                       0.033\n",
      "Model:                            OLS   Adj. R-squared:                  0.032\n",
      "Method:                 Least Squares   F-statistic:                     8.554\n",
      "Date:                Mon, 19 Dec 2022   Prob (F-statistic):           4.53e-08\n",
      "Time:                        21:21:07   Log-Likelihood:                 1250.8\n",
      "No. Observations:                4095   AIC:                            -2490.\n",
      "Df Residuals:                    4089   BIC:                            -2452.\n",
      "Df Model:                           5                                         \n",
      "Covariance Type:                  hc1                                         \n",
      "=================================================================================\n",
      "                    coef    std err          z      P>|z|      [0.025      0.975]\n",
      "---------------------------------------------------------------------------------\n",
      "const             0.0292      0.008      3.446      0.001       0.013       0.046\n",
      "hostcitytime      0.4239      0.148      2.868      0.004       0.134       0.714\n",
      "hostcitytime2    -0.3405      0.113     -3.005      0.003      -0.563      -0.118\n",
      "hostcity         -0.0064      0.035     -0.182      0.856      -0.075       0.063\n",
      "time             -0.0255      0.031     -0.810      0.418      -0.087       0.036\n",
      "time2             0.0196      0.025      0.785      0.433      -0.029       0.068\n",
      "==============================================================================\n",
      "Omnibus:                     4313.416   Durbin-Watson:                   1.710\n",
      "Prob(Omnibus):                  0.000   Jarque-Bera (JB):           218155.116\n",
      "Skew:                           5.436   Prob(JB):                         0.00\n",
      "Kurtosis:                      37.064   Cond. No.                         58.7\n",
      "==============================================================================\n",
      "\n",
      "Notes:\n",
      "[1] Standard Errors are heteroscedasticity robust (HC1)\n"
     ]
    }
   ],
   "source": [
    "x = matched_simple[['hostcitytime', 'hostcitytime2', 'hostcity', 'time', 'time2']]\n",
    "y = matched_simple['lnrepression']\n",
    "x = sm.add_constant(x)\n",
    "\n",
    "#fit linear regression model\n",
    "model1 = sm.OLS(y, x, missing='drop').fit(cov_type=\"hc1\")\n",
    "\n",
    "#view model summary\n",
    "print(model1.summary())"
   ]
  },
  {
   "cell_type": "markdown",
   "id": "4c63b88c",
   "metadata": {},
   "source": [
    "### OLS Model 2 Matched"
   ]
  },
  {
   "cell_type": "markdown",
   "id": "8d42f39c",
   "metadata": {},
   "source": [
    "Run the first linear regression model **with** the **control** variables on matched data"
   ]
  },
  {
   "cell_type": "code",
   "execution_count": 68,
   "id": "3f1b31ea",
   "metadata": {},
   "outputs": [
    {
     "name": "stdout",
     "output_type": "stream",
     "text": [
      "                            OLS Regression Results                            \n",
      "==============================================================================\n",
      "Dep. Variable:           lnrepression   R-squared:                       0.098\n",
      "Model:                            OLS   Adj. R-squared:                  0.096\n",
      "Method:                 Least Squares   F-statistic:                     12.90\n",
      "Date:                Mon, 19 Dec 2022   Prob (F-statistic):           1.82e-22\n",
      "Time:                        21:21:07   Log-Likelihood:                 1394.7\n",
      "No. Observations:                4095   AIC:                            -2767.\n",
      "Df Residuals:                    4084   BIC:                            -2698.\n",
      "Df Model:                          10                                         \n",
      "Covariance Type:                  hc1                                         \n",
      "=====================================================================================\n",
      "                        coef    std err          z      P>|z|      [0.025      0.975]\n",
      "-------------------------------------------------------------------------------------\n",
      "const                -0.9371      0.141     -6.668      0.000      -1.213      -0.662\n",
      "hostcitytime          0.4239      0.135      3.132      0.002       0.159       0.689\n",
      "hostcitytime2        -0.3405      0.105     -3.250      0.001      -0.546      -0.135\n",
      "hostcity             -0.1001      0.035     -2.896      0.004      -0.168      -0.032\n",
      "time                 -0.0255      0.031     -0.817      0.414      -0.087       0.036\n",
      "time2                 0.0196      0.025      0.789      0.430      -0.029       0.068\n",
      "lnpop_1970            0.0867      0.011      8.218      0.000       0.066       0.107\n",
      "vote_frejuli         -0.0014      0.001     -2.732      0.006      -0.002      -0.000\n",
      "literacy_avg          0.0089      0.087      0.102      0.919      -0.162       0.180\n",
      "lnrebact1974         -0.0049      0.002     -2.790      0.005      -0.008      -0.001\n",
      "lnrepression70_77    -0.0029      0.002     -1.296      0.195      -0.007       0.002\n",
      "==============================================================================\n",
      "Omnibus:                     4103.436   Durbin-Watson:                   1.829\n",
      "Prob(Omnibus):                  0.000   Jarque-Bera (JB):           186868.735\n",
      "Skew:                           5.032   Prob(JB):                         0.00\n",
      "Kurtosis:                      34.527   Cond. No.                     3.74e+03\n",
      "==============================================================================\n",
      "\n",
      "Notes:\n",
      "[1] Standard Errors are heteroscedasticity robust (HC1)\n",
      "[2] The condition number is large, 3.74e+03. This might indicate that there are\n",
      "strong multicollinearity or other numerical problems.\n"
     ]
    }
   ],
   "source": [
    "x = matched_simple[['hostcitytime', 'hostcitytime2', 'hostcity', 'time', 'time2', 'lnpop_1970',\n",
    "          'vote_frejuli', 'literacy_avg', 'lnrebact1974', 'lnrepression70_77']]\n",
    "y = matched_simple['lnrepression']\n",
    "x = sm.add_constant(x)\n",
    "\n",
    "#fit linear regression model\n",
    "model2 = sm.OLS(y, x, missing='drop').fit(cov_type=\"hc1\")\n",
    "\n",
    "#view model summary\n",
    "print(model2.summary())"
   ]
  },
  {
   "cell_type": "markdown",
   "id": "3b2e10e7",
   "metadata": {},
   "source": [
    "### OLS Model 3 Matched"
   ]
  },
  {
   "cell_type": "markdown",
   "id": "6a3319e3",
   "metadata": {},
   "source": [
    "Run model 3 with the **control** and **zone FE** variables for matched data"
   ]
  },
  {
   "cell_type": "code",
   "execution_count": 69,
   "id": "e1ed5389",
   "metadata": {},
   "outputs": [
    {
     "name": "stdout",
     "output_type": "stream",
     "text": [
      "                            OLS Regression Results                            \n",
      "==============================================================================\n",
      "Dep. Variable:           lnrepression   R-squared:                       0.120\n",
      "Model:                            OLS   Adj. R-squared:                  0.117\n",
      "Method:                 Least Squares   F-statistic:                     10.48\n",
      "Date:                Mon, 19 Dec 2022   Prob (F-statistic):           9.72e-24\n",
      "Time:                        21:21:07   Log-Likelihood:                 1444.5\n",
      "No. Observations:                4095   AIC:                            -2859.\n",
      "Df Residuals:                    4080   BIC:                            -2764.\n",
      "Df Model:                          14                                         \n",
      "Covariance Type:                  hc1                                         \n",
      "=====================================================================================\n",
      "                        coef    std err          z      P>|z|      [0.025      0.975]\n",
      "-------------------------------------------------------------------------------------\n",
      "const                -0.9783      0.172     -5.701      0.000      -1.315      -0.642\n",
      "hostcitytime          0.4239      0.131      3.241      0.001       0.168       0.680\n",
      "hostcitytime2        -0.3405      0.102     -3.344      0.001      -0.540      -0.141\n",
      "hostcity             -0.0766      0.033     -2.347      0.019      -0.141      -0.013\n",
      "time                 -0.0255      0.031     -0.818      0.413      -0.087       0.036\n",
      "time2                 0.0196      0.025      0.789      0.430      -0.029       0.068\n",
      "lnpop_1970            0.0872      0.011      7.761      0.000       0.065       0.109\n",
      "vote_frejuli         -0.0009      0.001     -1.575      0.115      -0.002       0.000\n",
      "literacy_avg          0.2092      0.102      2.045      0.041       0.009       0.410\n",
      "lnrebact1974         -0.0204      0.003     -6.641      0.000      -0.026      -0.014\n",
      "lnrepression70_77    -0.0160      0.004     -4.168      0.000      -0.024      -0.008\n",
      "zone2                -0.1095      0.013     -8.699      0.000      -0.134      -0.085\n",
      "zone3                -0.0857      0.011     -7.639      0.000      -0.108      -0.064\n",
      "zone4                -0.0162      0.009     -1.854      0.064      -0.033       0.001\n",
      "zone5                -0.0682      0.010     -6.635      0.000      -0.088      -0.048\n",
      "==============================================================================\n",
      "Omnibus:                     4026.867   Durbin-Watson:                   1.874\n",
      "Prob(Omnibus):                  0.000   Jarque-Bera (JB):           177134.357\n",
      "Skew:                           4.887   Prob(JB):                         0.00\n",
      "Kurtosis:                      33.702   Cond. No.                     4.15e+03\n",
      "==============================================================================\n",
      "\n",
      "Notes:\n",
      "[1] Standard Errors are heteroscedasticity robust (HC1)\n",
      "[2] The condition number is large, 4.15e+03. This might indicate that there are\n",
      "strong multicollinearity or other numerical problems.\n"
     ]
    }
   ],
   "source": [
    "x = matched_simple[['hostcitytime', 'hostcitytime2', 'hostcity', 'time', 'time2', 'lnpop_1970',\n",
    "          'vote_frejuli', 'literacy_avg', 'lnrebact1974', 'lnrepression70_77', 'zone2', 'zone3', 'zone4', 'zone5']]\n",
    "y = matched_simple['lnrepression']\n",
    "x = sm.add_constant(x)\n",
    "\n",
    "#fit linear regression model\n",
    "model3 = sm.OLS(y, x, missing='drop').fit(cov_type=\"hc1\")\n",
    "\n",
    "#view model summary\n",
    "print(model3.summary())"
   ]
  },
  {
   "cell_type": "markdown",
   "id": "7b784274",
   "metadata": {},
   "source": [
    "### Summarize models and interpret the results"
   ]
  },
  {
   "cell_type": "markdown",
   "id": "84b4be8f",
   "metadata": {},
   "source": [
    "Use stargazer to summarize the three models in the same table"
   ]
  },
  {
   "cell_type": "code",
   "execution_count": 70,
   "id": "35c30ff4",
   "metadata": {},
   "outputs": [
    {
     "data": {
      "text/html": [
       " Linear regressions (OLS) for matched samples<br><table style=\"text-align:center\"><tr><td colspan=\"4\" style=\"border-bottom: 1px solid black\"></td></tr><tr><td style=\"text-align:left\"></td><td colspan=\"3\"><em>Dependent variable:lnrepression</em></td></tr><tr><td style=\"text-align:left\"></td><tr><td></td><td colspan=\"3\">Manual matching</td></tr><tr><td style=\"text-align:left\"></td><td>(1)</td><td>(2)</td><td>(3)</td></tr><tr><td colspan=\"4\" style=\"border-bottom: 1px solid black\"></td></tr><tr><td style=\"text-align:left\">hostcitytime</td><td>0.424<sup>**</sup></td><td>0.424<sup>**</sup></td><td>0.424<sup>**</sup></td></tr><tr><td style=\"text-align:left\"></td><td>(0.148)</td><td>(0.135)</td><td>(0.131)</td></tr><tr><td style=\"text-align:left\">hostcitytime2</td><td>-0.341<sup>**</sup></td><td>-0.341<sup>**</sup></td><td>-0.341<sup>***</sup></td></tr><tr><td style=\"text-align:left\"></td><td>(0.113)</td><td>(0.105)</td><td>(0.102)</td></tr><tr><td style=\"text-align:left\">hostcity</td><td>-0.006<sup></sup></td><td>-0.100<sup>**</sup></td><td>-0.077<sup>*</sup></td></tr><tr><td style=\"text-align:left\"></td><td>(0.035)</td><td>(0.035)</td><td>(0.033)</td></tr><tr><td style=\"text-align:left\">time</td><td>-0.026<sup></sup></td><td>-0.026<sup></sup></td><td>-0.026<sup></sup></td></tr><tr><td style=\"text-align:left\"></td><td>(0.031)</td><td>(0.031)</td><td>(0.031)</td></tr><tr><td style=\"text-align:left\">time2</td><td>0.020<sup></sup></td><td>0.020<sup></sup></td><td>0.020<sup></sup></td></tr><tr><td style=\"text-align:left\"></td><td>(0.025)</td><td>(0.025)</td><td>(0.025)</td></tr><tr><td style=\"text-align:left\">const</td><td>0.029<sup>***</sup></td><td>-0.937<sup>***</sup></td><td>-0.978<sup>***</sup></td></tr><tr><td style=\"text-align:left\"></td><td>(0.008)</td><td>(0.141)</td><td>(0.172)</td></tr><tr><td style=\"text-align: left\">Controls</td><td>&#x2718</td><td>&#x2714</td><td>&#x2714</td></tr><tr><td style=\"text-align: left\">Zone FE</td><td>&#x2718</td><td>&#x2718</td><td>&#x2714</td></tr><td colspan=\"4\" style=\"border-bottom: 1px solid black\"></td></tr><tr><td style=\"text-align: left\">Observations</td><td>4,095</td><td>4,095</td><td>4,095</td></tr><tr><td style=\"text-align: left\">R<sup>2</sup></td><td>0.033</td><td>0.098</td><td>0.120</td></tr><tr><td style=\"text-align: left\">F Statistic</td><td>8.554<sup>***</sup></td><td>12.897<sup>***</sup></td><td>10.479<sup>***</sup></td></tr><tr><td colspan=\"4\" style=\"border-bottom: 1px solid black\"></td></tr><tr><td style=\"text-align: left\">Note:</td>\n",
       " <td colspan=\"3\" style=\"text-align: right\">\n",
       "  <sup>*</sup>p&lt;0.05;\n",
       "  <sup>**</sup>p&lt;0.01;\n",
       "  <sup>***</sup>p&lt;0.001\n",
       " </td></tr><tr><td></td><td colspan=\"3\" style=\"text-align: right\">Values are coefficients with robust standard errors in parentheses</td></tr></table>"
      ],
      "text/plain": [
       "<IPython.core.display.HTML object>"
      ]
     },
     "execution_count": 70,
     "metadata": {},
     "output_type": "execute_result"
    }
   ],
   "source": [
    "from stargazer.stargazer import Stargazer\n",
    "from IPython.core.display import HTML\n",
    "\n",
    "stargazer = Stargazer([model1, model2, model3])\n",
    "\n",
    "stargazer.title(' Linear regressions (OLS) for matched samples')\n",
    "\n",
    "#change covarietes order\n",
    "stargazer.covariate_order(['hostcitytime', 'hostcitytime2', 'hostcity', 'time', 'time2', 'const'])\n",
    "\n",
    "stargazer.show_degrees_of_freedom(False)\n",
    "\n",
    "#add controls and zone FE notes\n",
    "stargazer.add_line('Controls', ['&#x2718', '&#x2714', '&#x2714'])\n",
    "stargazer.add_line('Zone FE', ['&#x2718', '&#x2718', '&#x2714'])\n",
    "\n",
    "#set significance levels\n",
    "stargazer.significance_levels([0.001, 0.01, 0.05])\n",
    "\n",
    "stargazer.add_custom_notes(['Values are coefficients with robust standard errors in parentheses'])\n",
    "\n",
    "stargazer.show_residual_std_err= False\n",
    "stargazer.show_adj_r2= False\n",
    "\n",
    "stargazer.custom_columns(['Manual matching'], [3])\n",
    "\n",
    "#show summary in html format\n",
    "HTML(stargazer.render_html())"
   ]
  },
  {
   "cell_type": "markdown",
   "id": "8ea57eb2",
   "metadata": {},
   "source": [
    "### Summaries Interpretation"
   ]
  },
  {
   "cell_type": "markdown",
   "id": "a27f9f53",
   "metadata": {},
   "source": [
    "* Just **like Q2** we can see that hostcitytime is statistically significant and has positive sign \n",
    "* Also hostcitytime2 is statistically significant and has negative sign\n",
    "* The authors used **matched samples** in regression in order to select sample of observations that are similar in certain characteristics like the **population range** of the department\n",
    "* They matched the departments with host cities with the departments with non host cities based on the population range (min-max)\n",
    "* In that way they can **exclude** the **non host** cities that belong to a department that is **sparsely populated** or have a small ammount of non host cities\n",
    "* The hypothesis are supported and the negative binomial results are found **robust** with the simple matched OLS regression\n",
    "* Thus the support of the hypothesis is **not driven** by non host cities that belong to small departments\n",
    "* In general the results remain the same to various **sample compositions** and unlikely to be driven by covariate imbalances or **model dependencies**"
   ]
  },
  {
   "cell_type": "markdown",
   "id": "16d11a78",
   "metadata": {},
   "source": [
    "Generate the repression prediction based on the model that I created"
   ]
  },
  {
   "cell_type": "code",
   "execution_count": 71,
   "id": "4f7318b9",
   "metadata": {},
   "outputs": [],
   "source": [
    "results = pd.DataFrame()\n",
    "results['pre'] = model3.predict(x)\n",
    "results=results.dropna()"
   ]
  },
  {
   "cell_type": "markdown",
   "id": "5f8de77e",
   "metadata": {},
   "source": [
    "Because I want to plot the repression in the figure and not the ln(repression) that the model predicted I will remove the ln by raising e in the ln(repression) power"
   ]
  },
  {
   "cell_type": "code",
   "execution_count": 72,
   "id": "a6c19e86",
   "metadata": {},
   "outputs": [],
   "source": [
    "results=np.exp(results)"
   ]
  },
  {
   "cell_type": "markdown",
   "id": "4a3aff78",
   "metadata": {},
   "source": [
    "Retrieve the 95% confidence interval using the get prediction method from stats model"
   ]
  },
  {
   "cell_type": "code",
   "execution_count": 73,
   "id": "7594ce20",
   "metadata": {},
   "outputs": [],
   "source": [
    "predictions = model3.get_prediction(x)\n",
    "ci=predictions.summary_frame(alpha=0.05)\n",
    "ci=ci.dropna()"
   ]
  },
  {
   "cell_type": "markdown",
   "id": "57fe473f",
   "metadata": {},
   "source": [
    "Remove ln from repression in the confidence interval values as well"
   ]
  },
  {
   "cell_type": "code",
   "execution_count": 74,
   "id": "f3244895",
   "metadata": {},
   "outputs": [],
   "source": [
    "ci=np.exp(ci)"
   ]
  },
  {
   "cell_type": "markdown",
   "id": "2384be86",
   "metadata": {},
   "source": [
    "Merge predictions with the main data\n",
    "* the merge will be done by index \n",
    "* because the prediction includes only the simple matched data after merging with the main data we will have only the simple matched data"
   ]
  },
  {
   "cell_type": "code",
   "execution_count": 75,
   "id": "6440da93",
   "metadata": {},
   "outputs": [],
   "source": [
    "results = pd.merge(results, main_data, left_index=True, right_index=True)"
   ]
  },
  {
   "cell_type": "markdown",
   "id": "b616d2f6",
   "metadata": {},
   "source": [
    "Separate host and non host cities for the predictions and the confidence interval"
   ]
  },
  {
   "cell_type": "code",
   "execution_count": 76,
   "id": "2c38aadf",
   "metadata": {},
   "outputs": [],
   "source": [
    "host_1=results[results['hostcity']==1]\n",
    "non_host_1=results[results['hostcity']==0]\n",
    "host_95=pd.merge(ci, host_1, left_index=True, right_index=True)\n",
    "non_host_95=pd.merge(ci, non_host_1, left_index=True, right_index=True)"
   ]
  },
  {
   "cell_type": "markdown",
   "id": "c90912ef",
   "metadata": {},
   "source": [
    "Group by time and calculate the mean repression prediction and confidence interval"
   ]
  },
  {
   "cell_type": "code",
   "execution_count": 77,
   "id": "2eef723d",
   "metadata": {},
   "outputs": [],
   "source": [
    "host=host_1.groupby(by='time').mean(numeric_only=True).reset_index()\n",
    "non_host=non_host_1.groupby(by='time').mean(numeric_only=True).reset_index()\n",
    "host_95=host_95.groupby(by='time').mean(numeric_only=True).reset_index()\n",
    "non_host_95=non_host_95.groupby(by='time').mean(numeric_only=True).reset_index()"
   ]
  },
  {
   "cell_type": "markdown",
   "id": "6c30d6b4",
   "metadata": {},
   "source": [
    "Create the world cup event window"
   ]
  },
  {
   "cell_type": "code",
   "execution_count": 78,
   "id": "dab2458e",
   "metadata": {},
   "outputs": [],
   "source": [
    "event_window = pd.DataFrame()\n",
    "event_window = results[results['time'] >= 0.93]"
   ]
  },
  {
   "cell_type": "markdown",
   "id": "8eb9d7c3",
   "metadata": {},
   "source": [
    "Create a list with the x axis timestamps"
   ]
  },
  {
   "cell_type": "code",
   "execution_count": 79,
   "id": "d81188bf",
   "metadata": {},
   "outputs": [],
   "source": [
    "dates=['March 1',\n",
    "       'April 1',\n",
    "       'May 1',\n",
    "       'June 1',\n",
    "       'June 25'    \n",
    "      ]"
   ]
  },
  {
   "cell_type": "markdown",
   "id": "72e265d7",
   "metadata": {},
   "source": [
    "Plot the figure 6 with **matplot** library\n",
    "* The plot consists of **two lines**: one **solid** for the **host** and one **dashed** for the **non host** cities\n",
    "* Predicted repression is based on the ols model 3 for matched data\n",
    "* Shading around lines gives the 95% confidence intervals of the model\n",
    "* World cup time window shows when the event starts and ends"
   ]
  },
  {
   "cell_type": "code",
   "execution_count": 80,
   "id": "01410ceb",
   "metadata": {},
   "outputs": [
    {
     "data": {
      "image/png": "[encoded data removed]",
      "text/plain": [
       "<Figure size 600x500 with 1 Axes>"
      ]
     },
     "metadata": {},
     "output_type": "display_data"
    }
   ],
   "source": [
    "#plot predicted regression line for hosts and the corresponding confidence interval \n",
    "plt.plot(host['time'], host['pre'], color='black', lw=1.5)\n",
    "plt.fill_between(host['time'], (host_95['mean_ci_lower']), (host_95['mean_ci_upper']),\n",
    "                 color='black', alpha=0.1, edgecolor='None')\n",
    "\n",
    "#plot predicted regression line for non hosts and the corresponding confidence interval \n",
    "plt.plot(non_host['time'], non_host['pre'], color='black', lw=1.5, linestyle='dashed')\n",
    "plt.fill_between(non_host['time'], (non_host_95['mean_ci_lower']), (non_host_95['mean_ci_upper']),\n",
    "                 color='black', alpha=0.1, edgecolor='None')\n",
    "\n",
    "#create event window with fill between\n",
    "plt.fill_between(event_window['time'], 0.97, 1.3, color='black', alpha=0.05, edgecolor='None')\n",
    "plt.text(0.945, 1.28,'World Cup',fontsize=11)\n",
    "\n",
    "#set x,y axis ranges and labels\n",
    "plt.yticks([1.0, 1.10, 1.20, 1.30])\n",
    "plt.xticks([0.01, 0.32, 0.62, 0.93, 1.17])\n",
    "ax = plt.gca()\n",
    "ax.set_xticklabels(dates)\n",
    "\n",
    "#remove spines\n",
    "ax.spines['right'].set_color('none')\n",
    "ax.spines['top'].set_color('none')\n",
    "\n",
    "plt.title('Substantive Effects for Matched Sample', fontsize=13, pad=10)\n",
    "plt.xlabel(\"Date\")\n",
    "plt.ylabel(\"Predicted number of daily repression events\")\n",
    "\n",
    "#create the line types for the legend\n",
    "line_solid = Line2D([0,1],[0,1],linestyle='solid', color='black')\n",
    "line_dashed = Line2D([0,1],[0,1],linestyle='dashed', color='black')\n",
    "\n",
    "#create the legend\n",
    "ax.legend(handles=[line_solid, line_dashed], labels=['Host cities', 'Matched nonhost cities'], ncol=2,\n",
    "          loc='center', bbox_to_anchor=(0.5, -0.17))\n",
    "\n",
    "#set the size\n",
    "fig = plt.gcf()\n",
    "fig.set_size_inches(6, 5)\n",
    "\n",
    "plt.savefig(\"figures/substantive_effects_matched.png\")\n",
    "\n",
    "plt.show()"
   ]
  },
  {
   "cell_type": "markdown",
   "id": "132a1693",
   "metadata": {},
   "source": [
    "### Figure Interpretation"
   ]
  },
  {
   "cell_type": "markdown",
   "id": "8a9756e5",
   "metadata": {},
   "source": [
    "* As I explained in the summaries interpretation the figure shows the same pattern: for the host cities the repression increases before the world cap and decreases when the event begins\n",
    "* For the non host cities the repression does not change significantly\n",
    "* We can see that the **mean repression events** for the non host cities are **more** (range: 1.0-1.1) compared to the figure 5 that I replicated in Q3 (range: 1.0-1.01) and that can be explained due to the exclusion of the small departments with non host cities that might have less repression events\n",
    "* The figure has a very **similar shape** like the figure 6 in the paper but the predicted repression range is different due to the different model that I used and the lnrepression that I explained in the Q3"
   ]
  },
  {
   "cell_type": "code",
   "execution_count": null,
   "id": "a371e9d0",
   "metadata": {},
   "outputs": [],
   "source": []
  }
 ],
 "metadata": {
  "kernelspec": {
   "display_name": "Python 3 (ipykernel)",
   "language": "python",
   "name": "python3"
  },
  "language_info": {
   "codemirror_mode": {
    "name": "ipython",
    "version": 3
   },
   "file_extension": ".py",
   "mimetype": "text/x-python",
   "name": "python",
   "nbconvert_exporter": "python",
   "pygments_lexer": "ipython3",
   "version": "3.10.7"
  }
 },
 "nbformat": 4,
 "nbformat_minor": 5
}
